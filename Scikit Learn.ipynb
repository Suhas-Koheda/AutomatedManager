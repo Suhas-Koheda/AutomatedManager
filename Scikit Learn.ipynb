{
 "cells": [
  {
   "cell_type": "code",
   "id": "initial_id",
   "metadata": {
    "collapsed": true,
    "ExecuteTime": {
     "end_time": "2025-06-01T12:35:45.572754Z",
     "start_time": "2025-06-01T12:35:44.918393Z"
    }
   },
   "source": [
    "from unicodedata import category\n",
    "\n",
    "import numpy as np\n",
    "import pandas as pd\n",
    "import matplotlib.pyplot as plt\n",
    "%matplotlib inline"
   ],
   "outputs": [],
   "execution_count": 1
  },
  {
   "metadata": {
    "ExecuteTime": {
     "end_time": "2025-05-05T17:59:20.327088Z",
     "start_time": "2025-05-05T17:59:20.306629Z"
    }
   },
   "cell_type": "code",
   "source": "df=pd.read_csv(\"ScikitLearn/car-sales-extended.csv\")",
   "id": "4b1c155e4680fc03",
   "outputs": [],
   "execution_count": 2
  },
  {
   "metadata": {
    "ExecuteTime": {
     "end_time": "2025-05-05T17:59:20.761667Z",
     "start_time": "2025-05-05T17:59:20.706604Z"
    }
   },
   "cell_type": "code",
   "source": [
    "df.head()\n",
    "df.describe()"
   ],
   "id": "fb40fa6534a1ae8c",
   "outputs": [
    {
     "data": {
      "text/plain": [
       "       Odometer (KM)        Doors         Price\n",
       "count    1000.000000  1000.000000   1000.000000\n",
       "mean   131073.708000     4.014000  16045.665000\n",
       "std     68859.723885     0.379405   8630.794219\n",
       "min     10148.000000     3.000000   2796.000000\n",
       "25%     71238.000000     4.000000   9481.500000\n",
       "50%    131202.000000     4.000000  14264.000000\n",
       "75%    192372.750000     4.000000  20738.750000\n",
       "max    249860.000000     5.000000  52458.000000"
      ],
      "text/html": [
       "<div>\n",
       "<style scoped>\n",
       "    .dataframe tbody tr th:only-of-type {\n",
       "        vertical-align: middle;\n",
       "    }\n",
       "\n",
       "    .dataframe tbody tr th {\n",
       "        vertical-align: top;\n",
       "    }\n",
       "\n",
       "    .dataframe thead th {\n",
       "        text-align: right;\n",
       "    }\n",
       "</style>\n",
       "<table border=\"1\" class=\"dataframe\">\n",
       "  <thead>\n",
       "    <tr style=\"text-align: right;\">\n",
       "      <th></th>\n",
       "      <th>Odometer (KM)</th>\n",
       "      <th>Doors</th>\n",
       "      <th>Price</th>\n",
       "    </tr>\n",
       "  </thead>\n",
       "  <tbody>\n",
       "    <tr>\n",
       "      <th>count</th>\n",
       "      <td>1000.000000</td>\n",
       "      <td>1000.000000</td>\n",
       "      <td>1000.000000</td>\n",
       "    </tr>\n",
       "    <tr>\n",
       "      <th>mean</th>\n",
       "      <td>131073.708000</td>\n",
       "      <td>4.014000</td>\n",
       "      <td>16045.665000</td>\n",
       "    </tr>\n",
       "    <tr>\n",
       "      <th>std</th>\n",
       "      <td>68859.723885</td>\n",
       "      <td>0.379405</td>\n",
       "      <td>8630.794219</td>\n",
       "    </tr>\n",
       "    <tr>\n",
       "      <th>min</th>\n",
       "      <td>10148.000000</td>\n",
       "      <td>3.000000</td>\n",
       "      <td>2796.000000</td>\n",
       "    </tr>\n",
       "    <tr>\n",
       "      <th>25%</th>\n",
       "      <td>71238.000000</td>\n",
       "      <td>4.000000</td>\n",
       "      <td>9481.500000</td>\n",
       "    </tr>\n",
       "    <tr>\n",
       "      <th>50%</th>\n",
       "      <td>131202.000000</td>\n",
       "      <td>4.000000</td>\n",
       "      <td>14264.000000</td>\n",
       "    </tr>\n",
       "    <tr>\n",
       "      <th>75%</th>\n",
       "      <td>192372.750000</td>\n",
       "      <td>4.000000</td>\n",
       "      <td>20738.750000</td>\n",
       "    </tr>\n",
       "    <tr>\n",
       "      <th>max</th>\n",
       "      <td>249860.000000</td>\n",
       "      <td>5.000000</td>\n",
       "      <td>52458.000000</td>\n",
       "    </tr>\n",
       "  </tbody>\n",
       "</table>\n",
       "</div>"
      ]
     },
     "execution_count": 3,
     "metadata": {},
     "output_type": "execute_result"
    }
   ],
   "execution_count": 3
  },
  {
   "metadata": {
    "ExecuteTime": {
     "end_time": "2025-06-01T12:35:50.363989Z",
     "start_time": "2025-06-01T12:35:48.218745Z"
    }
   },
   "cell_type": "code",
   "source": [
    "!pip install scikit-learn\n",
    "from sklearn.model_selection import train_test_split\n"
   ],
   "id": "adc48f98e4be4e41",
   "outputs": [
    {
     "name": "stdout",
     "output_type": "stream",
     "text": [
      "Requirement already satisfied: scikit-learn in /home/ssp/PyCharmMiscProject/.venv/lib/python3.13/site-packages (1.6.1)\r\n",
      "Requirement already satisfied: numpy>=1.19.5 in /home/ssp/PyCharmMiscProject/.venv/lib/python3.13/site-packages (from scikit-learn) (2.2.5)\r\n",
      "Requirement already satisfied: scipy>=1.6.0 in /home/ssp/PyCharmMiscProject/.venv/lib/python3.13/site-packages (from scikit-learn) (1.15.2)\r\n",
      "Requirement already satisfied: joblib>=1.2.0 in /home/ssp/PyCharmMiscProject/.venv/lib/python3.13/site-packages (from scikit-learn) (1.5.0)\r\n",
      "Requirement already satisfied: threadpoolctl>=3.1.0 in /home/ssp/PyCharmMiscProject/.venv/lib/python3.13/site-packages (from scikit-learn) (3.6.0)\r\n"
     ]
    }
   ],
   "execution_count": 2
  },
  {
   "metadata": {
    "ExecuteTime": {
     "end_time": "2025-05-05T17:59:26.136740Z",
     "start_time": "2025-05-05T17:59:26.124764Z"
    }
   },
   "cell_type": "code",
   "source": [
    "y=df['Price']\n",
    "y.head()\n",
    "x=df.drop('Price',axis=1)"
   ],
   "id": "231b4518f85c4e5d",
   "outputs": [],
   "execution_count": 5
  },
  {
   "metadata": {
    "ExecuteTime": {
     "end_time": "2025-05-05T17:59:26.453602Z",
     "start_time": "2025-05-05T17:59:26.444031Z"
    }
   },
   "cell_type": "code",
   "source": "X_train, Y_train, X_test, Y_test = train_test_split(x,y,test_size=0.2)",
   "id": "5dc08b3c3356ca0f",
   "outputs": [],
   "execution_count": 6
  },
  {
   "metadata": {
    "ExecuteTime": {
     "end_time": "2025-05-05T17:59:26.594594Z",
     "start_time": "2025-05-05T17:59:26.583884Z"
    }
   },
   "cell_type": "code",
   "source": "X_train.shape , Y_train.shape , X_test.shape, Y_test.shape",
   "id": "81fdc870d260e9d9",
   "outputs": [
    {
     "data": {
      "text/plain": [
       "((800, 4), (200, 4), (800,), (200,))"
      ]
     },
     "execution_count": 7,
     "metadata": {},
     "output_type": "execute_result"
    }
   ],
   "execution_count": 7
  },
  {
   "metadata": {},
   "cell_type": "code",
   "outputs": [
    {
     "data": {
      "text/plain": [
       "0.27714177910934956"
      ]
     },
     "execution_count": 18,
     "metadata": {},
     "output_type": "execute_result"
    }
   ],
   "execution_count": 18,
   "source": [
    "\n",
    "from sklearn.ensemble import RandomForestRegressor\n",
    "from sklearn.preprocessing import OneHotEncoder\n",
    "from sklearn.compose import ColumnTransformer\n",
    "\n",
    "category_features=[\"Make\",\"Colour\",\"Doors\"]\n",
    "onehotencoder = OneHotEncoder(handle_unknown='ignore')\n",
    "transformer=ColumnTransformer([(\"one_hot\",onehotencoder,category_features)],remainder='passthrough')\n",
    "transfer_x=transformer.fit_transform(x)\n",
    "\n",
    "X_train, X_test, Y_train, Y_test = train_test_split(transfer_x,y,test_size=0.2)\n",
    "\n",
    "model=RandomForestRegressor()\n",
    "model.fit(X_train,Y_train)\n",
    "model.score(X_test,Y_test)"
   ],
   "id": "fa47efca0a667585"
  },
  {
   "metadata": {},
   "cell_type": "code",
   "outputs": [],
   "execution_count": null,
   "source": "df.isna().sum()",
   "id": "722465245907fc7b"
  },
  {
   "metadata": {
    "ExecuteTime": {
     "end_time": "2025-06-04T11:55:01.294956Z",
     "start_time": "2025-06-04T11:55:01.291542Z"
    }
   },
   "cell_type": "code",
   "source": "print(\"Hello\")",
   "id": "9b624a67c5a76d54",
   "outputs": [
    {
     "name": "stdout",
     "output_type": "stream",
     "text": [
      "Hello\n"
     ]
    }
   ],
   "execution_count": 1
  },
  {
   "metadata": {
    "ExecuteTime": {
     "end_time": "2025-06-04T11:55:22.573469Z",
     "start_time": "2025-06-04T11:55:22.012758Z"
    }
   },
   "cell_type": "code",
   "source": [
    "import pandas as pd\n",
    "import numpy as np\n"
   ],
   "id": "c63c987278f71ae8",
   "outputs": [],
   "execution_count": 2
  },
  {
   "metadata": {
    "ExecuteTime": {
     "end_time": "2025-06-04T11:59:53.187423Z",
     "start_time": "2025-06-04T11:59:52.392141Z"
    }
   },
   "cell_type": "code",
   "source": [
    "from sklearn.model_selection import train_test_split\n",
    "hd=pd.read_csv(\"./ScikitLearn/heart-disease.csv\")"
   ],
   "id": "7989368c2e582e2a",
   "outputs": [],
   "execution_count": 7
  },
  {
   "metadata": {
    "ExecuteTime": {
     "end_time": "2025-06-04T11:59:57.074050Z",
     "start_time": "2025-06-04T11:59:57.066584Z"
    }
   },
   "cell_type": "code",
   "source": "hd.head()",
   "id": "aaf6123d3385c623",
   "outputs": [
    {
     "data": {
      "text/plain": [
       "   age  sex  cp  trestbps  chol  fbs  restecg  thalach  exang  oldpeak  slope  \\\n",
       "0   63    1   3       145   233    1        0      150      0      2.3      0   \n",
       "1   37    1   2       130   250    0        1      187      0      3.5      0   \n",
       "2   41    0   1       130   204    0        0      172      0      1.4      2   \n",
       "3   56    1   1       120   236    0        1      178      0      0.8      2   \n",
       "4   57    0   0       120   354    0        1      163      1      0.6      2   \n",
       "\n",
       "   ca  thal  target  \n",
       "0   0     1       1  \n",
       "1   0     2       1  \n",
       "2   0     2       1  \n",
       "3   0     2       1  \n",
       "4   0     2       1  "
      ],
      "text/html": [
       "<div>\n",
       "<style scoped>\n",
       "    .dataframe tbody tr th:only-of-type {\n",
       "        vertical-align: middle;\n",
       "    }\n",
       "\n",
       "    .dataframe tbody tr th {\n",
       "        vertical-align: top;\n",
       "    }\n",
       "\n",
       "    .dataframe thead th {\n",
       "        text-align: right;\n",
       "    }\n",
       "</style>\n",
       "<table border=\"1\" class=\"dataframe\">\n",
       "  <thead>\n",
       "    <tr style=\"text-align: right;\">\n",
       "      <th></th>\n",
       "      <th>age</th>\n",
       "      <th>sex</th>\n",
       "      <th>cp</th>\n",
       "      <th>trestbps</th>\n",
       "      <th>chol</th>\n",
       "      <th>fbs</th>\n",
       "      <th>restecg</th>\n",
       "      <th>thalach</th>\n",
       "      <th>exang</th>\n",
       "      <th>oldpeak</th>\n",
       "      <th>slope</th>\n",
       "      <th>ca</th>\n",
       "      <th>thal</th>\n",
       "      <th>target</th>\n",
       "    </tr>\n",
       "  </thead>\n",
       "  <tbody>\n",
       "    <tr>\n",
       "      <th>0</th>\n",
       "      <td>63</td>\n",
       "      <td>1</td>\n",
       "      <td>3</td>\n",
       "      <td>145</td>\n",
       "      <td>233</td>\n",
       "      <td>1</td>\n",
       "      <td>0</td>\n",
       "      <td>150</td>\n",
       "      <td>0</td>\n",
       "      <td>2.3</td>\n",
       "      <td>0</td>\n",
       "      <td>0</td>\n",
       "      <td>1</td>\n",
       "      <td>1</td>\n",
       "    </tr>\n",
       "    <tr>\n",
       "      <th>1</th>\n",
       "      <td>37</td>\n",
       "      <td>1</td>\n",
       "      <td>2</td>\n",
       "      <td>130</td>\n",
       "      <td>250</td>\n",
       "      <td>0</td>\n",
       "      <td>1</td>\n",
       "      <td>187</td>\n",
       "      <td>0</td>\n",
       "      <td>3.5</td>\n",
       "      <td>0</td>\n",
       "      <td>0</td>\n",
       "      <td>2</td>\n",
       "      <td>1</td>\n",
       "    </tr>\n",
       "    <tr>\n",
       "      <th>2</th>\n",
       "      <td>41</td>\n",
       "      <td>0</td>\n",
       "      <td>1</td>\n",
       "      <td>130</td>\n",
       "      <td>204</td>\n",
       "      <td>0</td>\n",
       "      <td>0</td>\n",
       "      <td>172</td>\n",
       "      <td>0</td>\n",
       "      <td>1.4</td>\n",
       "      <td>2</td>\n",
       "      <td>0</td>\n",
       "      <td>2</td>\n",
       "      <td>1</td>\n",
       "    </tr>\n",
       "    <tr>\n",
       "      <th>3</th>\n",
       "      <td>56</td>\n",
       "      <td>1</td>\n",
       "      <td>1</td>\n",
       "      <td>120</td>\n",
       "      <td>236</td>\n",
       "      <td>0</td>\n",
       "      <td>1</td>\n",
       "      <td>178</td>\n",
       "      <td>0</td>\n",
       "      <td>0.8</td>\n",
       "      <td>2</td>\n",
       "      <td>0</td>\n",
       "      <td>2</td>\n",
       "      <td>1</td>\n",
       "    </tr>\n",
       "    <tr>\n",
       "      <th>4</th>\n",
       "      <td>57</td>\n",
       "      <td>0</td>\n",
       "      <td>0</td>\n",
       "      <td>120</td>\n",
       "      <td>354</td>\n",
       "      <td>0</td>\n",
       "      <td>1</td>\n",
       "      <td>163</td>\n",
       "      <td>1</td>\n",
       "      <td>0.6</td>\n",
       "      <td>2</td>\n",
       "      <td>0</td>\n",
       "      <td>2</td>\n",
       "      <td>1</td>\n",
       "    </tr>\n",
       "  </tbody>\n",
       "</table>\n",
       "</div>"
      ]
     },
     "execution_count": 8,
     "metadata": {},
     "output_type": "execute_result"
    }
   ],
   "execution_count": 8
  },
  {
   "metadata": {
    "ExecuteTime": {
     "end_time": "2025-06-04T11:59:57.875202Z",
     "start_time": "2025-06-04T11:59:57.868134Z"
    }
   },
   "cell_type": "code",
   "source": [
    "X=hd.drop('target',axis=1)\n",
    "y=hd['target']\n",
    "\n",
    "X_test, X_train , y_test, y_train = train_test_split(X,y,test_size=0.2)"
   ],
   "id": "4210282d2c9c9cf7",
   "outputs": [],
   "execution_count": 9
  },
  {
   "metadata": {
    "ExecuteTime": {
     "end_time": "2025-06-04T12:03:38.494225Z",
     "start_time": "2025-06-04T12:03:38.490572Z"
    }
   },
   "cell_type": "code",
   "source": "from sklearn.ensemble import RandomForestClassifier\n",
   "id": "17aa3b7a4f53164f",
   "outputs": [],
   "execution_count": 19
  },
  {
   "metadata": {
    "ExecuteTime": {
     "end_time": "2025-06-04T12:36:39.790957Z",
     "start_time": "2025-06-04T12:36:37.800399Z"
    }
   },
   "cell_type": "code",
   "source": [
    "clf=RandomForestClassifier(n_estimators=100)\n",
    "from sklearn.model_selection import cross_val_score\n",
    "scores=np.mean(cross_val_score(clf,X_train,y_train,cv=10))\n",
    "print(cross_val_score(clf,X_train,y_train,cv=10))\n",
    "print(scores)"
   ],
   "id": "20d456f09f4227fb",
   "outputs": [
    {
     "name": "stdout",
     "output_type": "stream",
     "text": [
      "[0.71428571 0.66666667 0.66666667 0.66666667 0.66666667 0.5\n",
      " 0.83333333 0.83333333 0.66666667 0.83333333]\n",
      "0.7214285714285714\n"
     ]
    }
   ],
   "execution_count": 27
  },
  {
   "metadata": {
    "ExecuteTime": {
     "end_time": "2025-06-04T13:25:25.655470Z",
     "start_time": "2025-06-04T13:25:25.491771Z"
    }
   },
   "cell_type": "code",
   "source": [
    "clf.fit(X_train,y_train)\n",
    "clf.score(X_test,y_test)"
   ],
   "id": "fec1e191b959ce3d",
   "outputs": [
    {
     "data": {
      "text/plain": [
       "0.7975206611570248"
      ]
     },
     "execution_count": 30,
     "metadata": {},
     "output_type": "execute_result"
    }
   ],
   "execution_count": 30
  },
  {
   "metadata": {
    "ExecuteTime": {
     "end_time": "2025-06-04T13:29:39.129487Z",
     "start_time": "2025-06-04T13:29:39.083202Z"
    }
   },
   "cell_type": "code",
   "source": [
    "from sklearn.metrics import roc_curve\n",
    "\n",
    "y_probs=clf.predict_proba(X_test)\n",
    "print(y_probs)"
   ],
   "id": "28b991bdbb0b8703",
   "outputs": [
    {
     "name": "stdout",
     "output_type": "stream",
     "text": [
      "[[0.3  0.7 ]\n",
      " [0.87 0.13]\n",
      " [0.92 0.08]\n",
      " [0.83 0.17]\n",
      " [0.33 0.67]\n",
      " [0.77 0.23]\n",
      " [0.73 0.27]\n",
      " [0.7  0.3 ]\n",
      " [0.29 0.71]\n",
      " [0.38 0.62]\n",
      " [0.38 0.62]\n",
      " [0.18 0.82]\n",
      " [0.44 0.56]\n",
      " [0.15 0.85]\n",
      " [0.22 0.78]\n",
      " [0.47 0.53]\n",
      " [0.66 0.34]\n",
      " [0.9  0.1 ]\n",
      " [0.45 0.55]\n",
      " [0.91 0.09]\n",
      " [0.41 0.59]\n",
      " [0.01 0.99]\n",
      " [0.1  0.9 ]\n",
      " [0.04 0.96]\n",
      " [0.12 0.88]\n",
      " [0.68 0.32]\n",
      " [0.23 0.77]\n",
      " [0.   1.  ]\n",
      " [0.12 0.88]\n",
      " [0.04 0.96]\n",
      " [0.34 0.66]\n",
      " [0.28 0.72]\n",
      " [0.82 0.18]\n",
      " [0.49 0.51]\n",
      " [0.74 0.26]\n",
      " [0.67 0.33]\n",
      " [0.05 0.95]\n",
      " [0.52 0.48]\n",
      " [0.2  0.8 ]\n",
      " [0.01 0.99]\n",
      " [0.15 0.85]\n",
      " [0.18 0.82]\n",
      " [0.12 0.88]\n",
      " [0.37 0.63]\n",
      " [0.88 0.12]\n",
      " [0.36 0.64]\n",
      " [0.91 0.09]\n",
      " [0.78 0.22]\n",
      " [0.7  0.3 ]\n",
      " [0.47 0.53]\n",
      " [0.46 0.54]\n",
      " [0.21 0.79]\n",
      " [0.51 0.49]\n",
      " [0.18 0.82]\n",
      " [0.79 0.21]\n",
      " [0.77 0.23]\n",
      " [0.52 0.48]\n",
      " [0.18 0.82]\n",
      " [0.88 0.12]\n",
      " [0.57 0.43]\n",
      " [0.05 0.95]\n",
      " [0.67 0.33]\n",
      " [0.95 0.05]\n",
      " [0.65 0.35]\n",
      " [0.38 0.62]\n",
      " [0.17 0.83]\n",
      " [0.24 0.76]\n",
      " [0.63 0.37]\n",
      " [0.2  0.8 ]\n",
      " [0.7  0.3 ]\n",
      " [0.03 0.97]\n",
      " [0.74 0.26]\n",
      " [0.59 0.41]\n",
      " [0.65 0.35]\n",
      " [0.17 0.83]\n",
      " [0.83 0.17]\n",
      " [0.12 0.88]\n",
      " [0.75 0.25]\n",
      " [0.9  0.1 ]\n",
      " [0.22 0.78]\n",
      " [0.9  0.1 ]\n",
      " [0.85 0.15]\n",
      " [0.85 0.15]\n",
      " [0.3  0.7 ]\n",
      " [0.2  0.8 ]\n",
      " [0.87 0.13]\n",
      " [0.68 0.32]\n",
      " [0.56 0.44]\n",
      " [0.51 0.49]\n",
      " [0.58 0.42]\n",
      " [0.04 0.96]\n",
      " [0.29 0.71]\n",
      " [0.78 0.22]\n",
      " [0.21 0.79]\n",
      " [0.41 0.59]\n",
      " [0.04 0.96]\n",
      " [0.92 0.08]\n",
      " [0.52 0.48]\n",
      " [0.38 0.62]\n",
      " [0.05 0.95]\n",
      " [0.91 0.09]\n",
      " [0.08 0.92]\n",
      " [0.23 0.77]\n",
      " [0.25 0.75]\n",
      " [0.74 0.26]\n",
      " [0.48 0.52]\n",
      " [0.53 0.47]\n",
      " [0.31 0.69]\n",
      " [0.41 0.59]\n",
      " [0.38 0.62]\n",
      " [0.2  0.8 ]\n",
      " [0.81 0.19]\n",
      " [0.95 0.05]\n",
      " [0.9  0.1 ]\n",
      " [0.92 0.08]\n",
      " [0.45 0.55]\n",
      " [0.6  0.4 ]\n",
      " [0.82 0.18]\n",
      " [0.62 0.38]\n",
      " [0.47 0.53]\n",
      " [0.03 0.97]\n",
      " [0.51 0.49]\n",
      " [0.45 0.55]\n",
      " [0.16 0.84]\n",
      " [0.65 0.35]\n",
      " [0.63 0.37]\n",
      " [0.03 0.97]\n",
      " [0.22 0.78]\n",
      " [0.39 0.61]\n",
      " [0.26 0.74]\n",
      " [0.62 0.38]\n",
      " [0.43 0.57]\n",
      " [0.72 0.28]\n",
      " [0.07 0.93]\n",
      " [0.59 0.41]\n",
      " [0.57 0.43]\n",
      " [0.07 0.93]\n",
      " [0.8  0.2 ]\n",
      " [0.47 0.53]\n",
      " [0.54 0.46]\n",
      " [0.83 0.17]\n",
      " [0.23 0.77]\n",
      " [0.71 0.29]\n",
      " [0.35 0.65]\n",
      " [0.43 0.57]\n",
      " [0.83 0.17]\n",
      " [0.31 0.69]\n",
      " [0.36 0.64]\n",
      " [0.24 0.76]\n",
      " [0.15 0.85]\n",
      " [0.81 0.19]\n",
      " [0.71 0.29]\n",
      " [0.44 0.56]\n",
      " [0.4  0.6 ]\n",
      " [0.37 0.63]\n",
      " [0.46 0.54]\n",
      " [0.25 0.75]\n",
      " [0.55 0.45]\n",
      " [0.36 0.64]\n",
      " [0.31 0.69]\n",
      " [0.28 0.72]\n",
      " [0.14 0.86]\n",
      " [0.1  0.9 ]\n",
      " [0.57 0.43]\n",
      " [0.83 0.17]\n",
      " [0.75 0.25]\n",
      " [0.34 0.66]\n",
      " [0.05 0.95]\n",
      " [0.88 0.12]\n",
      " [0.4  0.6 ]\n",
      " [0.77 0.23]\n",
      " [0.42 0.58]\n",
      " [0.32 0.68]\n",
      " [0.88 0.12]\n",
      " [0.33 0.67]\n",
      " [0.09 0.91]\n",
      " [0.5  0.5 ]\n",
      " [0.18 0.82]\n",
      " [0.9  0.1 ]\n",
      " [0.41 0.59]\n",
      " [0.49 0.51]\n",
      " [0.12 0.88]\n",
      " [0.34 0.66]\n",
      " [0.52 0.48]\n",
      " [0.84 0.16]\n",
      " [0.71 0.29]\n",
      " [0.44 0.56]\n",
      " [0.82 0.18]\n",
      " [0.49 0.51]\n",
      " [0.75 0.25]\n",
      " [0.57 0.43]\n",
      " [0.46 0.54]\n",
      " [0.76 0.24]\n",
      " [0.35 0.65]\n",
      " [0.17 0.83]\n",
      " [0.41 0.59]\n",
      " [0.89 0.11]\n",
      " [0.34 0.66]\n",
      " [0.5  0.5 ]\n",
      " [0.33 0.67]\n",
      " [0.22 0.78]\n",
      " [0.49 0.51]\n",
      " [0.9  0.1 ]\n",
      " [0.17 0.83]\n",
      " [0.51 0.49]\n",
      " [0.06 0.94]\n",
      " [0.03 0.97]\n",
      " [0.67 0.33]\n",
      " [0.66 0.34]\n",
      " [0.52 0.48]\n",
      " [0.58 0.42]\n",
      " [0.87 0.13]\n",
      " [0.04 0.96]\n",
      " [0.85 0.15]\n",
      " [0.33 0.67]\n",
      " [0.19 0.81]\n",
      " [0.7  0.3 ]\n",
      " [0.86 0.14]\n",
      " [0.25 0.75]\n",
      " [0.56 0.44]\n",
      " [0.93 0.07]\n",
      " [0.13 0.87]\n",
      " [0.3  0.7 ]\n",
      " [0.78 0.22]\n",
      " [0.91 0.09]\n",
      " [0.09 0.91]\n",
      " [0.11 0.89]\n",
      " [0.37 0.63]\n",
      " [0.5  0.5 ]\n",
      " [0.85 0.15]\n",
      " [0.21 0.79]\n",
      " [0.94 0.06]\n",
      " [0.55 0.45]\n",
      " [0.22 0.78]\n",
      " [0.34 0.66]\n",
      " [0.84 0.16]\n",
      " [0.34 0.66]\n",
      " [0.59 0.41]\n",
      " [0.4  0.6 ]\n",
      " [0.09 0.91]\n",
      " [0.19 0.81]\n",
      " [0.69 0.31]]\n"
     ]
    }
   ],
   "execution_count": 35
  },
  {
   "metadata": {
    "ExecuteTime": {
     "end_time": "2025-06-04T13:30:36.579444Z",
     "start_time": "2025-06-04T13:30:36.573683Z"
    }
   },
   "cell_type": "code",
   "source": "fpr,tpr,thresholds=roc_curve(y_test,y_probs[:,1])",
   "id": "37dae3e709a7a7b4",
   "outputs": [],
   "execution_count": 37
  },
  {
   "metadata": {
    "ExecuteTime": {
     "end_time": "2025-06-04T13:37:34.664544Z",
     "start_time": "2025-06-04T13:37:34.133816Z"
    }
   },
   "cell_type": "code",
   "source": [
    "import matplotlib.pyplot as plt\n",
    "def plot_roc_curve(fpr,tpr):\n",
    "    plt.plot(fpr,tpr,linewidth=2,color='darkorange',label='ROC Curve')\n",
    "    plt.plot([0,1],[0,1],color='navy',linestyle='--')\n",
    "    plt.xlabel(\"False Positive Rate\")\n",
    "    plt.ylabel(\"True Positive Rate\")\n",
    "    plt.title(\"ROC Curve\")\n",
    "    plt.show()"
   ],
   "id": "c77435703ea63fa6",
   "outputs": [],
   "execution_count": 41
  },
  {
   "metadata": {
    "ExecuteTime": {
     "end_time": "2025-06-04T13:37:48.010897Z",
     "start_time": "2025-06-04T13:37:47.761433Z"
    }
   },
   "cell_type": "code",
   "source": "plot_roc_curve(fpr,tpr)",
   "id": "50c6c1c377d9b015",
   "outputs": [
    {
     "data": {
      "text/plain": [
       "<Figure size 640x480 with 1 Axes>"
      ],
      "image/png": "[encoded data removed]"
     },
     "metadata": {},
     "output_type": "display_data"
    }
   ],
   "execution_count": 42
  },
  {
   "metadata": {
    "ExecuteTime": {
     "end_time": "2025-06-04T13:38:35.034412Z",
     "start_time": "2025-06-04T13:38:35.021812Z"
    }
   },
   "cell_type": "code",
   "source": [
    "from sklearn.metrics import roc_auc_score\n",
    "roc_auc_score(y_test,y_probs[:,1])"
   ],
   "id": "6ddf7d63793575d6",
   "outputs": [
    {
     "data": {
      "text/plain": [
       "np.float64(0.9022664835164834)"
      ]
     },
     "execution_count": 44,
     "metadata": {},
     "output_type": "execute_result"
    }
   ],
   "execution_count": 44
  },
  {
   "metadata": {
    "ExecuteTime": {
     "end_time": "2025-06-04T13:41:36.672315Z",
     "start_time": "2025-06-04T13:41:36.648888Z"
    }
   },
   "cell_type": "code",
   "source": [
    "from sklearn.metrics import confusion_matrix\n",
    "\n",
    "y_pred=clf.predict(X_test)\n",
    "confusion_matrix(y_test,y_pred)"
   ],
   "id": "5a2eab0d2ce8d6b3",
   "outputs": [
    {
     "data": {
      "text/plain": [
       "array([[ 86,  26],\n",
       "       [ 23, 107]])"
      ]
     },
     "execution_count": 45,
     "metadata": {},
     "output_type": "execute_result"
    }
   ],
   "execution_count": 45
  },
  {
   "metadata": {
    "ExecuteTime": {
     "end_time": "2025-06-04T13:42:07.109336Z",
     "start_time": "2025-06-04T13:42:07.083111Z"
    }
   },
   "cell_type": "code",
   "source": "pd.crosstab(y_test,y_pred)",
   "id": "89e44d7904a5a5c0",
   "outputs": [
    {
     "data": {
      "text/plain": [
       "col_0    0    1\n",
       "target         \n",
       "0       86   26\n",
       "1       23  107"
      ],
      "text/html": [
       "<div>\n",
       "<style scoped>\n",
       "    .dataframe tbody tr th:only-of-type {\n",
       "        vertical-align: middle;\n",
       "    }\n",
       "\n",
       "    .dataframe tbody tr th {\n",
       "        vertical-align: top;\n",
       "    }\n",
       "\n",
       "    .dataframe thead th {\n",
       "        text-align: right;\n",
       "    }\n",
       "</style>\n",
       "<table border=\"1\" class=\"dataframe\">\n",
       "  <thead>\n",
       "    <tr style=\"text-align: right;\">\n",
       "      <th>col_0</th>\n",
       "      <th>0</th>\n",
       "      <th>1</th>\n",
       "    </tr>\n",
       "    <tr>\n",
       "      <th>target</th>\n",
       "      <th></th>\n",
       "      <th></th>\n",
       "    </tr>\n",
       "  </thead>\n",
       "  <tbody>\n",
       "    <tr>\n",
       "      <th>0</th>\n",
       "      <td>86</td>\n",
       "      <td>26</td>\n",
       "    </tr>\n",
       "    <tr>\n",
       "      <th>1</th>\n",
       "      <td>23</td>\n",
       "      <td>107</td>\n",
       "    </tr>\n",
       "  </tbody>\n",
       "</table>\n",
       "</div>"
      ]
     },
     "execution_count": 46,
     "metadata": {},
     "output_type": "execute_result"
    }
   ],
   "execution_count": 46
  },
  {
   "metadata": {
    "ExecuteTime": {
     "end_time": "2025-06-04T13:49:54.887438Z",
     "start_time": "2025-06-04T13:49:54.880644Z"
    }
   },
   "cell_type": "code",
   "source": "import seaborn as sns",
   "id": "751600b8f3a502cd",
   "outputs": [],
   "execution_count": 50
  },
  {
   "metadata": {
    "ExecuteTime": {
     "end_time": "2025-06-04T13:52:29.440480Z",
     "start_time": "2025-06-04T13:52:29.216303Z"
    }
   },
   "cell_type": "code",
   "source": [
    "sns.set(font_scale=1.5)\n",
    "conf_amt=confusion_matrix(y_test,y_pred)\n",
    "sns.heatmap(conf_amt,annot=True,fmt='d',cmap='Blues',xticklabels=['No Disease','Disease'],yticklabels=['No Disease','Disease'])"
   ],
   "id": "19791413505f3c5e",
   "outputs": [
    {
     "data": {
      "text/plain": [
       "<Axes: >"
      ]
     },
     "execution_count": 52,
     "metadata": {},
     "output_type": "execute_result"
    },
    {
     "data": {
      "text/plain": [
       "<Figure size 640x480 with 2 Axes>"
      ],
      "image/png": "[encoded data removed]"
     },
     "metadata": {},
     "output_type": "display_data"
    }
   ],
   "execution_count": 52
  },
  {
   "metadata": {
    "ExecuteTime": {
     "end_time": "2025-06-04T13:56:07.330864Z",
     "start_time": "2025-06-04T13:56:07.180838Z"
    }
   },
   "cell_type": "code",
   "source": [
    "from sklearn.metrics import ConfusionMatrixDisplay\n",
    "ConfusionMatrixDisplay.from_predictions(y_test,y_pred)"
   ],
   "id": "951269b9abcb620f",
   "outputs": [
    {
     "data": {
      "text/plain": [
       "<sklearn.metrics._plot.confusion_matrix.ConfusionMatrixDisplay at 0x7b59b0bef4d0>"
      ]
     },
     "execution_count": 54,
     "metadata": {},
     "output_type": "execute_result"
    },
    {
     "data": {
      "text/plain": [
       "<Figure size 640x480 with 2 Axes>"
      ],
      "image/png": "[encoded data removed]"
     },
     "metadata": {},
     "output_type": "display_data"
    }
   ],
   "execution_count": 54
  },
  {
   "metadata": {
    "ExecuteTime": {
     "end_time": "2025-06-04T13:56:36.083091Z",
     "start_time": "2025-06-04T13:56:35.889833Z"
    }
   },
   "cell_type": "code",
   "source": "ConfusionMatrixDisplay.from_estimator(clf,X, y)",
   "id": "bbf86306cd9d514",
   "outputs": [
    {
     "data": {
      "text/plain": [
       "<sklearn.metrics._plot.confusion_matrix.ConfusionMatrixDisplay at 0x7b59b02e7c50>"
      ]
     },
     "execution_count": 56,
     "metadata": {},
     "output_type": "execute_result"
    },
    {
     "data": {
      "text/plain": [
       "<Figure size 640x480 with 2 Axes>"
      ],
      "image/png": "[encoded data removed]"
     },
     "metadata": {},
     "output_type": "display_data"
    }
   ],
   "execution_count": 56
  },
  {
   "metadata": {
    "ExecuteTime": {
     "end_time": "2025-06-04T13:58:08.671932Z",
     "start_time": "2025-06-04T13:58:08.651286Z"
    }
   },
   "cell_type": "code",
   "source": [
    "from sklearn.metrics import classification_report\n",
    "print(classification_report(y_test,y_pred))"
   ],
   "id": "57984464ea9cc865",
   "outputs": [
    {
     "name": "stdout",
     "output_type": "stream",
     "text": [
      "              precision    recall  f1-score   support\n",
      "\n",
      "           0       0.79      0.77      0.78       112\n",
      "           1       0.80      0.82      0.81       130\n",
      "\n",
      "    accuracy                           0.80       242\n",
      "   macro avg       0.80      0.80      0.80       242\n",
      "weighted avg       0.80      0.80      0.80       242\n",
      "\n"
     ]
    }
   ],
   "execution_count": 57
  },
  {
   "metadata": {},
   "cell_type": "code",
   "outputs": [],
   "execution_count": null,
   "source": "",
   "id": "681e90ba9418caaa"
  }
 ],
 "metadata": {
  "kernelspec": {
   "display_name": "Python 3",
   "language": "python",
   "name": "python3"
  },
  "language_info": {
   "codemirror_mode": {
    "name": "ipython",
    "version": 2
   },
   "file_extension": ".py",
   "mimetype": "text/x-python",
   "name": "python",
   "nbconvert_exporter": "python",
   "pygments_lexer": "ipython2",
   "version": "2.7.6"
  }
 },
 "nbformat": 4,
 "nbformat_minor": 5
}
