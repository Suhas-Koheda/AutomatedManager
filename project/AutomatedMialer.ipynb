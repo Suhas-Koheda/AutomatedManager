{
 "cells": [
  {
   "cell_type": "code",
   "id": "initial_id",
   "metadata": {
    "collapsed": true,
    "ExecuteTime": {
     "end_time": "2025-06-11T09:36:25.901688Z",
     "start_time": "2025-06-11T09:36:25.897086Z"
    }
   },
   "source": [
    "from datetime import datetime\n",
    "from urllib.error import HTTPError\n",
    "\n",
    "from langchain_core.messages.tool import tool_call\n",
    "\n",
    "print(\"Hello, world!\")"
   ],
   "outputs": [
    {
     "name": "stdout",
     "output_type": "stream",
     "text": [
      "Hello, world!\n"
     ]
    }
   ],
   "execution_count": 1
  },
  {
   "metadata": {
    "ExecuteTime": {
     "end_time": "2025-06-10T12:28:38.328868Z",
     "start_time": "2025-06-10T12:27:14.680149Z"
    }
   },
   "cell_type": "code",
   "source": "!pip install --upgrade google-api-python-client google-auth-httplib2 google-auth-oauthlib",
   "id": "ccd5816f7f4ab403",
   "outputs": [
    {
     "name": "stdout",
     "output_type": "stream",
     "text": [
      "Requirement already satisfied: google-api-python-client in /home/ssp/PyCharmMiscProject/.venv/lib/python3.13/site-packages (2.169.0)\r\n",
      "Collecting google-api-python-client\r\n",
      "  Downloading google_api_python_client-2.171.0-py3-none-any.whl.metadata (7.0 kB)\r\n",
      "Requirement already satisfied: google-auth-httplib2 in /home/ssp/PyCharmMiscProject/.venv/lib/python3.13/site-packages (0.2.0)\r\n",
      "Collecting google-auth-oauthlib\r\n",
      "  Downloading google_auth_oauthlib-1.2.2-py3-none-any.whl.metadata (2.7 kB)\r\n",
      "Requirement already satisfied: httplib2<1.0.0,>=0.19.0 in /home/ssp/PyCharmMiscProject/.venv/lib/python3.13/site-packages (from google-api-python-client) (0.22.0)\r\n",
      "Requirement already satisfied: google-auth!=2.24.0,!=2.25.0,<3.0.0,>=1.32.0 in /home/ssp/PyCharmMiscProject/.venv/lib/python3.13/site-packages (from google-api-python-client) (2.40.1)\r\n",
      "Requirement already satisfied: google-api-core!=2.0.*,!=2.1.*,!=2.2.*,!=2.3.0,<3.0.0,>=1.31.5 in /home/ssp/PyCharmMiscProject/.venv/lib/python3.13/site-packages (from google-api-python-client) (2.25.0rc1)\r\n",
      "Requirement already satisfied: uritemplate<5,>=3.0.1 in /home/ssp/PyCharmMiscProject/.venv/lib/python3.13/site-packages (from google-api-python-client) (4.1.1)\r\n",
      "Requirement already satisfied: googleapis-common-protos<2.0.0,>=1.56.2 in /home/ssp/PyCharmMiscProject/.venv/lib/python3.13/site-packages (from google-api-core!=2.0.*,!=2.1.*,!=2.2.*,!=2.3.0,<3.0.0,>=1.31.5->google-api-python-client) (1.70.0)\r\n",
      "Requirement already satisfied: protobuf!=3.20.0,!=3.20.1,!=4.21.0,!=4.21.1,!=4.21.2,!=4.21.3,!=4.21.4,!=4.21.5,<7.0.0,>=3.19.5 in /home/ssp/PyCharmMiscProject/.venv/lib/python3.13/site-packages (from google-api-core!=2.0.*,!=2.1.*,!=2.2.*,!=2.3.0,<3.0.0,>=1.31.5->google-api-python-client) (5.29.4)\r\n",
      "Requirement already satisfied: proto-plus<2.0.0,>=1.22.3 in /home/ssp/PyCharmMiscProject/.venv/lib/python3.13/site-packages (from google-api-core!=2.0.*,!=2.1.*,!=2.2.*,!=2.3.0,<3.0.0,>=1.31.5->google-api-python-client) (1.26.1)\r\n",
      "Requirement already satisfied: requests<3.0.0,>=2.18.0 in /home/ssp/PyCharmMiscProject/.venv/lib/python3.13/site-packages (from google-api-core!=2.0.*,!=2.1.*,!=2.2.*,!=2.3.0,<3.0.0,>=1.31.5->google-api-python-client) (2.32.3)\r\n",
      "Requirement already satisfied: cachetools<6.0,>=2.0.0 in /home/ssp/PyCharmMiscProject/.venv/lib/python3.13/site-packages (from google-auth!=2.24.0,!=2.25.0,<3.0.0,>=1.32.0->google-api-python-client) (5.5.2)\r\n",
      "Requirement already satisfied: pyasn1-modules>=0.2.1 in /home/ssp/PyCharmMiscProject/.venv/lib/python3.13/site-packages (from google-auth!=2.24.0,!=2.25.0,<3.0.0,>=1.32.0->google-api-python-client) (0.4.2)\r\n",
      "Requirement already satisfied: rsa<5,>=3.1.4 in /home/ssp/PyCharmMiscProject/.venv/lib/python3.13/site-packages (from google-auth!=2.24.0,!=2.25.0,<3.0.0,>=1.32.0->google-api-python-client) (4.9.1)\r\n",
      "Requirement already satisfied: pyparsing!=3.0.0,!=3.0.1,!=3.0.2,!=3.0.3,<4,>=2.4.2 in /home/ssp/PyCharmMiscProject/.venv/lib/python3.13/site-packages (from httplib2<1.0.0,>=0.19.0->google-api-python-client) (3.2.3)\r\n",
      "Requirement already satisfied: charset-normalizer<4,>=2 in /home/ssp/PyCharmMiscProject/.venv/lib/python3.13/site-packages (from requests<3.0.0,>=2.18.0->google-api-core!=2.0.*,!=2.1.*,!=2.2.*,!=2.3.0,<3.0.0,>=1.31.5->google-api-python-client) (3.4.1)\r\n",
      "Requirement already satisfied: idna<4,>=2.5 in /home/ssp/PyCharmMiscProject/.venv/lib/python3.13/site-packages (from requests<3.0.0,>=2.18.0->google-api-core!=2.0.*,!=2.1.*,!=2.2.*,!=2.3.0,<3.0.0,>=1.31.5->google-api-python-client) (3.10)\r\n",
      "Requirement already satisfied: urllib3<3,>=1.21.1 in /home/ssp/PyCharmMiscProject/.venv/lib/python3.13/site-packages (from requests<3.0.0,>=2.18.0->google-api-core!=2.0.*,!=2.1.*,!=2.2.*,!=2.3.0,<3.0.0,>=1.31.5->google-api-python-client) (2.4.0)\r\n",
      "Requirement already satisfied: certifi>=2017.4.17 in /home/ssp/PyCharmMiscProject/.venv/lib/python3.13/site-packages (from requests<3.0.0,>=2.18.0->google-api-core!=2.0.*,!=2.1.*,!=2.2.*,!=2.3.0,<3.0.0,>=1.31.5->google-api-python-client) (2025.4.26)\r\n",
      "Requirement already satisfied: pyasn1>=0.1.3 in /home/ssp/PyCharmMiscProject/.venv/lib/python3.13/site-packages (from rsa<5,>=3.1.4->google-auth!=2.24.0,!=2.25.0,<3.0.0,>=1.32.0->google-api-python-client) (0.6.1)\r\n",
      "Collecting requests-oauthlib>=0.7.0 (from google-auth-oauthlib)\r\n",
      "  Downloading requests_oauthlib-2.0.0-py2.py3-none-any.whl.metadata (11 kB)\r\n",
      "Collecting oauthlib>=3.0.0 (from requests-oauthlib>=0.7.0->google-auth-oauthlib)\r\n",
      "  Downloading oauthlib-3.2.2-py3-none-any.whl.metadata (7.5 kB)\r\n",
      "Downloading google_api_python_client-2.171.0-py3-none-any.whl (13.5 MB)\r\n",
      "\u001B[2K   \u001B[90m━━━━━━━━━━━━━━━━━━━━━━━━━━━━━━━━━━━━━━━━\u001B[0m \u001B[32m13.5/13.5 MB\u001B[0m \u001B[31m195.4 kB/s\u001B[0m eta \u001B[36m0:00:00\u001B[0m00:01\u001B[0m00:03\u001B[0m\r\n",
      "\u001B[?25hDownloading google_auth_oauthlib-1.2.2-py3-none-any.whl (19 kB)\r\n",
      "Downloading requests_oauthlib-2.0.0-py2.py3-none-any.whl (24 kB)\r\n",
      "Downloading oauthlib-3.2.2-py3-none-any.whl (151 kB)\r\n",
      "Installing collected packages: oauthlib, requests-oauthlib, google-auth-oauthlib, google-api-python-client\r\n",
      "\u001B[2K  Attempting uninstall: google-api-python-client\r\n",
      "\u001B[2K    Found existing installation: google-api-python-client 2.169.0\r\n",
      "\u001B[2K    Uninstalling google-api-python-client-2.169.0:\r\n",
      "\u001B[2K      Successfully uninstalled google-api-python-client-2.169.0\r\n",
      "\u001B[2K   \u001B[90m━━━━━━━━━━━━━━━━━━━━━━━━━━━━━━━━━━━━━━━━\u001B[0m \u001B[32m4/4\u001B[0m [google-api-python-client]api-python-client]\r\n",
      "\u001B[1A\u001B[2K\u001B[31mERROR: pip's dependency resolver does not currently take into account all the packages that are installed. This behaviour is the source of the following dependency conflicts.\r\n",
      "google-generativeai 0.8.5 requires google-ai-generativelanguage==0.6.15, but you have google-ai-generativelanguage 0.6.18 which is incompatible.\u001B[0m\u001B[31m\r\n",
      "\u001B[0mSuccessfully installed google-api-python-client-2.171.0 google-auth-oauthlib-1.2.2 oauthlib-3.2.2 requests-oauthlib-2.0.0\r\n"
     ]
    }
   ],
   "execution_count": 2
  },
  {
   "metadata": {
    "ExecuteTime": {
     "end_time": "2025-06-10T12:32:36.773632Z",
     "start_time": "2025-06-10T12:32:08.512367Z"
    }
   },
   "cell_type": "code",
   "source": "!pip install google-ai-generativelanguage==0.6.15",
   "id": "5821be90ea2b01d",
   "outputs": [
    {
     "name": "stdout",
     "output_type": "stream",
     "text": [
      "Collecting google-ai-generativelanguage==0.6.15\r\n",
      "  Using cached google_ai_generativelanguage-0.6.15-py3-none-any.whl.metadata (5.7 kB)\r\n",
      "Requirement already satisfied: google-api-core!=2.0.*,!=2.1.*,!=2.10.*,!=2.2.*,!=2.3.*,!=2.4.*,!=2.5.*,!=2.6.*,!=2.7.*,!=2.8.*,!=2.9.*,<3.0.0dev,>=1.34.1 in /home/ssp/PyCharmMiscProject/.venv/lib/python3.13/site-packages (from google-api-core[grpc]!=2.0.*,!=2.1.*,!=2.10.*,!=2.2.*,!=2.3.*,!=2.4.*,!=2.5.*,!=2.6.*,!=2.7.*,!=2.8.*,!=2.9.*,<3.0.0dev,>=1.34.1->google-ai-generativelanguage==0.6.15) (2.25.0rc1)\r\n",
      "Requirement already satisfied: google-auth!=2.24.0,!=2.25.0,<3.0.0dev,>=2.14.1 in /home/ssp/PyCharmMiscProject/.venv/lib/python3.13/site-packages (from google-ai-generativelanguage==0.6.15) (2.40.1)\r\n",
      "Requirement already satisfied: proto-plus<2.0.0dev,>=1.22.3 in /home/ssp/PyCharmMiscProject/.venv/lib/python3.13/site-packages (from google-ai-generativelanguage==0.6.15) (1.26.1)\r\n",
      "Requirement already satisfied: protobuf!=4.21.0,!=4.21.1,!=4.21.2,!=4.21.3,!=4.21.4,!=4.21.5,<6.0.0dev,>=3.20.2 in /home/ssp/PyCharmMiscProject/.venv/lib/python3.13/site-packages (from google-ai-generativelanguage==0.6.15) (5.29.4)\r\n",
      "Requirement already satisfied: googleapis-common-protos<2.0.0,>=1.56.2 in /home/ssp/PyCharmMiscProject/.venv/lib/python3.13/site-packages (from google-api-core!=2.0.*,!=2.1.*,!=2.10.*,!=2.2.*,!=2.3.*,!=2.4.*,!=2.5.*,!=2.6.*,!=2.7.*,!=2.8.*,!=2.9.*,<3.0.0dev,>=1.34.1->google-api-core[grpc]!=2.0.*,!=2.1.*,!=2.10.*,!=2.2.*,!=2.3.*,!=2.4.*,!=2.5.*,!=2.6.*,!=2.7.*,!=2.8.*,!=2.9.*,<3.0.0dev,>=1.34.1->google-ai-generativelanguage==0.6.15) (1.70.0)\r\n",
      "Requirement already satisfied: requests<3.0.0,>=2.18.0 in /home/ssp/PyCharmMiscProject/.venv/lib/python3.13/site-packages (from google-api-core!=2.0.*,!=2.1.*,!=2.10.*,!=2.2.*,!=2.3.*,!=2.4.*,!=2.5.*,!=2.6.*,!=2.7.*,!=2.8.*,!=2.9.*,<3.0.0dev,>=1.34.1->google-api-core[grpc]!=2.0.*,!=2.1.*,!=2.10.*,!=2.2.*,!=2.3.*,!=2.4.*,!=2.5.*,!=2.6.*,!=2.7.*,!=2.8.*,!=2.9.*,<3.0.0dev,>=1.34.1->google-ai-generativelanguage==0.6.15) (2.32.3)\r\n",
      "Requirement already satisfied: grpcio<2.0.0,>=1.33.2 in /home/ssp/PyCharmMiscProject/.venv/lib/python3.13/site-packages (from google-api-core[grpc]!=2.0.*,!=2.1.*,!=2.10.*,!=2.2.*,!=2.3.*,!=2.4.*,!=2.5.*,!=2.6.*,!=2.7.*,!=2.8.*,!=2.9.*,<3.0.0dev,>=1.34.1->google-ai-generativelanguage==0.6.15) (1.67.1)\r\n",
      "Requirement already satisfied: grpcio-status<2.0.0,>=1.33.2 in /home/ssp/PyCharmMiscProject/.venv/lib/python3.13/site-packages (from google-api-core[grpc]!=2.0.*,!=2.1.*,!=2.10.*,!=2.2.*,!=2.3.*,!=2.4.*,!=2.5.*,!=2.6.*,!=2.7.*,!=2.8.*,!=2.9.*,<3.0.0dev,>=1.34.1->google-ai-generativelanguage==0.6.15) (1.71.0)\r\n",
      "Requirement already satisfied: cachetools<6.0,>=2.0.0 in /home/ssp/PyCharmMiscProject/.venv/lib/python3.13/site-packages (from google-auth!=2.24.0,!=2.25.0,<3.0.0dev,>=2.14.1->google-ai-generativelanguage==0.6.15) (5.5.2)\r\n",
      "Requirement already satisfied: pyasn1-modules>=0.2.1 in /home/ssp/PyCharmMiscProject/.venv/lib/python3.13/site-packages (from google-auth!=2.24.0,!=2.25.0,<3.0.0dev,>=2.14.1->google-ai-generativelanguage==0.6.15) (0.4.2)\r\n",
      "Requirement already satisfied: rsa<5,>=3.1.4 in /home/ssp/PyCharmMiscProject/.venv/lib/python3.13/site-packages (from google-auth!=2.24.0,!=2.25.0,<3.0.0dev,>=2.14.1->google-ai-generativelanguage==0.6.15) (4.9.1)\r\n",
      "Collecting grpcio<2.0.0,>=1.33.2 (from google-api-core[grpc]!=2.0.*,!=2.1.*,!=2.10.*,!=2.2.*,!=2.3.*,!=2.4.*,!=2.5.*,!=2.6.*,!=2.7.*,!=2.8.*,!=2.9.*,<3.0.0dev,>=1.34.1->google-ai-generativelanguage==0.6.15)\r\n",
      "  Downloading grpcio-1.73.0-cp313-cp313-manylinux_2_17_x86_64.manylinux2014_x86_64.whl.metadata (3.8 kB)\r\n",
      "Requirement already satisfied: charset-normalizer<4,>=2 in /home/ssp/PyCharmMiscProject/.venv/lib/python3.13/site-packages (from requests<3.0.0,>=2.18.0->google-api-core!=2.0.*,!=2.1.*,!=2.10.*,!=2.2.*,!=2.3.*,!=2.4.*,!=2.5.*,!=2.6.*,!=2.7.*,!=2.8.*,!=2.9.*,<3.0.0dev,>=1.34.1->google-api-core[grpc]!=2.0.*,!=2.1.*,!=2.10.*,!=2.2.*,!=2.3.*,!=2.4.*,!=2.5.*,!=2.6.*,!=2.7.*,!=2.8.*,!=2.9.*,<3.0.0dev,>=1.34.1->google-ai-generativelanguage==0.6.15) (3.4.1)\r\n",
      "Requirement already satisfied: idna<4,>=2.5 in /home/ssp/PyCharmMiscProject/.venv/lib/python3.13/site-packages (from requests<3.0.0,>=2.18.0->google-api-core!=2.0.*,!=2.1.*,!=2.10.*,!=2.2.*,!=2.3.*,!=2.4.*,!=2.5.*,!=2.6.*,!=2.7.*,!=2.8.*,!=2.9.*,<3.0.0dev,>=1.34.1->google-api-core[grpc]!=2.0.*,!=2.1.*,!=2.10.*,!=2.2.*,!=2.3.*,!=2.4.*,!=2.5.*,!=2.6.*,!=2.7.*,!=2.8.*,!=2.9.*,<3.0.0dev,>=1.34.1->google-ai-generativelanguage==0.6.15) (3.10)\r\n",
      "Requirement already satisfied: urllib3<3,>=1.21.1 in /home/ssp/PyCharmMiscProject/.venv/lib/python3.13/site-packages (from requests<3.0.0,>=2.18.0->google-api-core!=2.0.*,!=2.1.*,!=2.10.*,!=2.2.*,!=2.3.*,!=2.4.*,!=2.5.*,!=2.6.*,!=2.7.*,!=2.8.*,!=2.9.*,<3.0.0dev,>=1.34.1->google-api-core[grpc]!=2.0.*,!=2.1.*,!=2.10.*,!=2.2.*,!=2.3.*,!=2.4.*,!=2.5.*,!=2.6.*,!=2.7.*,!=2.8.*,!=2.9.*,<3.0.0dev,>=1.34.1->google-ai-generativelanguage==0.6.15) (2.4.0)\r\n",
      "Requirement already satisfied: certifi>=2017.4.17 in /home/ssp/PyCharmMiscProject/.venv/lib/python3.13/site-packages (from requests<3.0.0,>=2.18.0->google-api-core!=2.0.*,!=2.1.*,!=2.10.*,!=2.2.*,!=2.3.*,!=2.4.*,!=2.5.*,!=2.6.*,!=2.7.*,!=2.8.*,!=2.9.*,<3.0.0dev,>=1.34.1->google-api-core[grpc]!=2.0.*,!=2.1.*,!=2.10.*,!=2.2.*,!=2.3.*,!=2.4.*,!=2.5.*,!=2.6.*,!=2.7.*,!=2.8.*,!=2.9.*,<3.0.0dev,>=1.34.1->google-ai-generativelanguage==0.6.15) (2025.4.26)\r\n",
      "Requirement already satisfied: pyasn1>=0.1.3 in /home/ssp/PyCharmMiscProject/.venv/lib/python3.13/site-packages (from rsa<5,>=3.1.4->google-auth!=2.24.0,!=2.25.0,<3.0.0dev,>=2.14.1->google-ai-generativelanguage==0.6.15) (0.6.1)\r\n",
      "Using cached google_ai_generativelanguage-0.6.15-py3-none-any.whl (1.3 MB)\r\n",
      "Downloading grpcio-1.73.0-cp313-cp313-manylinux_2_17_x86_64.manylinux2014_x86_64.whl (6.0 MB)\r\n",
      "\u001B[2K   \u001B[90m━━━━━━━━━━━━━━━━━━━━━━━━━━━━━━━━━━━━━━━━\u001B[0m \u001B[32m6.0/6.0 MB\u001B[0m \u001B[31m262.1 kB/s\u001B[0m eta \u001B[36m0:00:00\u001B[0ma \u001B[36m0:00:01\u001B[0m\r\n",
      "\u001B[?25hInstalling collected packages: grpcio, google-ai-generativelanguage\r\n",
      "\u001B[2K  Attempting uninstall: grpcio\r\n",
      "\u001B[2K    Found existing installation: grpcio 1.67.1\r\n",
      "\u001B[2K    Uninstalling grpcio-1.67.1:\r\n",
      "\u001B[2K      Successfully uninstalled grpcio-1.67.1\r\n",
      "\u001B[2K  Attempting uninstall: google-ai-generativelanguage \u001B[32m0/2\u001B[0m [grpcio]\r\n",
      "\u001B[2K    Found existing installation: google-ai-generativelanguage 0.6.18o]\r\n",
      "\u001B[2K    Uninstalling google-ai-generativelanguage-0.6.18:m0/2\u001B[0m [grpcio]\r\n",
      "\u001B[2K      Successfully uninstalled google-ai-generativelanguage-0.6.18cio]\r\n",
      "\u001B[2K   \u001B[90m━━━━━━━━━━━━━━━━━━━━━━━━━━━━━━━━━━━━━━━━\u001B[0m \u001B[32m2/2\u001B[0m [google-ai-generativelanguage]enerativelanguage]\r\n",
      "\u001B[1A\u001B[2K\u001B[31mERROR: pip's dependency resolver does not currently take into account all the packages that are installed. This behaviour is the source of the following dependency conflicts.\r\n",
      "pymilvus 2.5.11 requires grpcio<=1.67.1,>=1.49.1, but you have grpcio 1.73.0 which is incompatible.\r\n",
      "langchain-google-genai 2.1.5 requires google-ai-generativelanguage<0.7.0,>=0.6.18, but you have google-ai-generativelanguage 0.6.15 which is incompatible.\u001B[0m\u001B[31m\r\n",
      "\u001B[0mSuccessfully installed google-ai-generativelanguage-0.6.15 grpcio-1.73.0\r\n"
     ]
    }
   ],
   "execution_count": 3
  },
  {
   "metadata": {
    "ExecuteTime": {
     "end_time": "2025-06-11T09:38:41.207579Z",
     "start_time": "2025-06-11T09:38:39.640928Z"
    }
   },
   "cell_type": "code",
   "source": [
    "# # Install all required packages with specific versions in Colab\n",
    "# !pip install google-api-python-client==2.171.0 \\\n",
    "# google-auth-httplib2==0.2.0 \\\n",
    "#     google-auth-oauthlib==1.2.2 \\\n",
    "#     google-ai-generativelanguage==0.6.15 \\\n",
    "#     google-generativeai==0.8.5"
   ],
   "id": "37de3f7eea26efb6",
   "outputs": [
    {
     "name": "stdout",
     "output_type": "stream",
     "text": [
      "Requirement already satisfied: google-api-python-client==2.171.0 in /home/ssp/PyCharmMiscProject/.venv/lib/python3.13/site-packages (2.171.0)\r\n",
      "Requirement already satisfied: google-auth-httplib2==0.2.0 in /home/ssp/PyCharmMiscProject/.venv/lib/python3.13/site-packages (0.2.0)\r\n",
      "Requirement already satisfied: google-auth-oauthlib==1.2.2 in /home/ssp/PyCharmMiscProject/.venv/lib/python3.13/site-packages (1.2.2)\r\n",
      "Requirement already satisfied: google-ai-generativelanguage==0.6.15 in /home/ssp/PyCharmMiscProject/.venv/lib/python3.13/site-packages (0.6.15)\r\n",
      "Requirement already satisfied: google-generativeai==0.8.5 in /home/ssp/PyCharmMiscProject/.venv/lib/python3.13/site-packages (0.8.5)\r\n",
      "Requirement already satisfied: httplib2<1.0.0,>=0.19.0 in /home/ssp/PyCharmMiscProject/.venv/lib/python3.13/site-packages (from google-api-python-client==2.171.0) (0.22.0)\r\n",
      "Requirement already satisfied: google-auth!=2.24.0,!=2.25.0,<3.0.0,>=1.32.0 in /home/ssp/PyCharmMiscProject/.venv/lib/python3.13/site-packages (from google-api-python-client==2.171.0) (2.40.1)\r\n",
      "Requirement already satisfied: google-api-core!=2.0.*,!=2.1.*,!=2.2.*,!=2.3.0,<3.0.0,>=1.31.5 in /home/ssp/PyCharmMiscProject/.venv/lib/python3.13/site-packages (from google-api-python-client==2.171.0) (2.25.0rc1)\r\n",
      "Requirement already satisfied: uritemplate<5,>=3.0.1 in /home/ssp/PyCharmMiscProject/.venv/lib/python3.13/site-packages (from google-api-python-client==2.171.0) (4.1.1)\r\n",
      "Requirement already satisfied: requests-oauthlib>=0.7.0 in /home/ssp/PyCharmMiscProject/.venv/lib/python3.13/site-packages (from google-auth-oauthlib==1.2.2) (2.0.0)\r\n",
      "Requirement already satisfied: proto-plus<2.0.0dev,>=1.22.3 in /home/ssp/PyCharmMiscProject/.venv/lib/python3.13/site-packages (from google-ai-generativelanguage==0.6.15) (1.26.1)\r\n",
      "Requirement already satisfied: protobuf!=4.21.0,!=4.21.1,!=4.21.2,!=4.21.3,!=4.21.4,!=4.21.5,<6.0.0dev,>=3.20.2 in /home/ssp/PyCharmMiscProject/.venv/lib/python3.13/site-packages (from google-ai-generativelanguage==0.6.15) (5.29.4)\r\n",
      "Requirement already satisfied: pydantic in /home/ssp/PyCharmMiscProject/.venv/lib/python3.13/site-packages (from google-generativeai==0.8.5) (2.11.4)\r\n",
      "Requirement already satisfied: tqdm in /home/ssp/PyCharmMiscProject/.venv/lib/python3.13/site-packages (from google-generativeai==0.8.5) (4.67.1)\r\n",
      "Requirement already satisfied: typing-extensions in /home/ssp/PyCharmMiscProject/.venv/lib/python3.13/site-packages (from google-generativeai==0.8.5) (4.13.2)\r\n",
      "Requirement already satisfied: googleapis-common-protos<2.0.0,>=1.56.2 in /home/ssp/PyCharmMiscProject/.venv/lib/python3.13/site-packages (from google-api-core!=2.0.*,!=2.1.*,!=2.2.*,!=2.3.0,<3.0.0,>=1.31.5->google-api-python-client==2.171.0) (1.70.0)\r\n",
      "Requirement already satisfied: requests<3.0.0,>=2.18.0 in /home/ssp/PyCharmMiscProject/.venv/lib/python3.13/site-packages (from google-api-core!=2.0.*,!=2.1.*,!=2.2.*,!=2.3.0,<3.0.0,>=1.31.5->google-api-python-client==2.171.0) (2.32.3)\r\n",
      "Requirement already satisfied: grpcio<2.0.0,>=1.33.2 in /home/ssp/PyCharmMiscProject/.venv/lib/python3.13/site-packages (from google-api-core[grpc]!=2.0.*,!=2.1.*,!=2.10.*,!=2.2.*,!=2.3.*,!=2.4.*,!=2.5.*,!=2.6.*,!=2.7.*,!=2.8.*,!=2.9.*,<3.0.0dev,>=1.34.1->google-ai-generativelanguage==0.6.15) (1.73.0)\r\n",
      "Requirement already satisfied: grpcio-status<2.0.0,>=1.33.2 in /home/ssp/PyCharmMiscProject/.venv/lib/python3.13/site-packages (from google-api-core[grpc]!=2.0.*,!=2.1.*,!=2.10.*,!=2.2.*,!=2.3.*,!=2.4.*,!=2.5.*,!=2.6.*,!=2.7.*,!=2.8.*,!=2.9.*,<3.0.0dev,>=1.34.1->google-ai-generativelanguage==0.6.15) (1.71.0)\r\n",
      "Requirement already satisfied: cachetools<6.0,>=2.0.0 in /home/ssp/PyCharmMiscProject/.venv/lib/python3.13/site-packages (from google-auth!=2.24.0,!=2.25.0,<3.0.0,>=1.32.0->google-api-python-client==2.171.0) (5.5.2)\r\n",
      "Requirement already satisfied: pyasn1-modules>=0.2.1 in /home/ssp/PyCharmMiscProject/.venv/lib/python3.13/site-packages (from google-auth!=2.24.0,!=2.25.0,<3.0.0,>=1.32.0->google-api-python-client==2.171.0) (0.4.2)\r\n",
      "Requirement already satisfied: rsa<5,>=3.1.4 in /home/ssp/PyCharmMiscProject/.venv/lib/python3.13/site-packages (from google-auth!=2.24.0,!=2.25.0,<3.0.0,>=1.32.0->google-api-python-client==2.171.0) (4.9.1)\r\n",
      "Requirement already satisfied: pyparsing!=3.0.0,!=3.0.1,!=3.0.2,!=3.0.3,<4,>=2.4.2 in /home/ssp/PyCharmMiscProject/.venv/lib/python3.13/site-packages (from httplib2<1.0.0,>=0.19.0->google-api-python-client==2.171.0) (3.2.3)\r\n",
      "Requirement already satisfied: charset-normalizer<4,>=2 in /home/ssp/PyCharmMiscProject/.venv/lib/python3.13/site-packages (from requests<3.0.0,>=2.18.0->google-api-core!=2.0.*,!=2.1.*,!=2.2.*,!=2.3.0,<3.0.0,>=1.31.5->google-api-python-client==2.171.0) (3.4.1)\r\n",
      "Requirement already satisfied: idna<4,>=2.5 in /home/ssp/PyCharmMiscProject/.venv/lib/python3.13/site-packages (from requests<3.0.0,>=2.18.0->google-api-core!=2.0.*,!=2.1.*,!=2.2.*,!=2.3.0,<3.0.0,>=1.31.5->google-api-python-client==2.171.0) (3.10)\r\n",
      "Requirement already satisfied: urllib3<3,>=1.21.1 in /home/ssp/PyCharmMiscProject/.venv/lib/python3.13/site-packages (from requests<3.0.0,>=2.18.0->google-api-core!=2.0.*,!=2.1.*,!=2.2.*,!=2.3.0,<3.0.0,>=1.31.5->google-api-python-client==2.171.0) (2.4.0)\r\n",
      "Requirement already satisfied: certifi>=2017.4.17 in /home/ssp/PyCharmMiscProject/.venv/lib/python3.13/site-packages (from requests<3.0.0,>=2.18.0->google-api-core!=2.0.*,!=2.1.*,!=2.2.*,!=2.3.0,<3.0.0,>=1.31.5->google-api-python-client==2.171.0) (2025.4.26)\r\n",
      "Requirement already satisfied: pyasn1>=0.1.3 in /home/ssp/PyCharmMiscProject/.venv/lib/python3.13/site-packages (from rsa<5,>=3.1.4->google-auth!=2.24.0,!=2.25.0,<3.0.0,>=1.32.0->google-api-python-client==2.171.0) (0.6.1)\r\n",
      "Requirement already satisfied: oauthlib>=3.0.0 in /home/ssp/PyCharmMiscProject/.venv/lib/python3.13/site-packages (from requests-oauthlib>=0.7.0->google-auth-oauthlib==1.2.2) (3.2.2)\r\n",
      "Requirement already satisfied: annotated-types>=0.6.0 in /home/ssp/PyCharmMiscProject/.venv/lib/python3.13/site-packages (from pydantic->google-generativeai==0.8.5) (0.7.0)\r\n",
      "Requirement already satisfied: pydantic-core==2.33.2 in /home/ssp/PyCharmMiscProject/.venv/lib/python3.13/site-packages (from pydantic->google-generativeai==0.8.5) (2.33.2)\r\n",
      "Requirement already satisfied: typing-inspection>=0.4.0 in /home/ssp/PyCharmMiscProject/.venv/lib/python3.13/site-packages (from pydantic->google-generativeai==0.8.5) (0.4.0)\r\n"
     ]
    }
   ],
   "execution_count": 3
  },
  {
   "metadata": {
    "ExecuteTime": {
     "end_time": "2025-06-11T10:46:41.129931Z",
     "start_time": "2025-06-11T10:46:41.089550Z"
    }
   },
   "cell_type": "code",
   "source": [
    "import os\n",
    "import datetime\n",
    "from google.auth.transport.requests import Request\n",
    "from googleapiclient.discovery import build\n",
    "from google.oauth2.credentials import Credentials\n",
    "from google_auth_oauthlib.flow import InstalledAppFlow\n",
    "from googleapiclient.errors import HttpError\n",
    "from langchain_core.tools import tool\n",
    "\n",
    "SCOPES = [\"https://www.googleapis.com/auth/calendar.readonly\"]\n",
    "\n",
    "@tool\n",
    "def read_calendar(date: str, days_before: int = 2, days_after: int = 2) -> list:\n",
    "    \"\"\"Read the calendar using the Calendar API and return events within a date range.\n",
    "    Args:\n",
    "        date: Central date to check (YYYY-MM-DD format)\n",
    "        days_before: Number of days before the central date to include (default 2)\n",
    "        days_after: Number of days after the central date to include (default 2)\n",
    "    Returns:\n",
    "        list: A list of events from the calendar with start times and summaries.\n",
    "    \"\"\"\n",
    "    # Authentication\n",
    "    creds = None\n",
    "    if os.path.exists(\"token.json\"):\n",
    "        creds = Credentials.from_authorized_user_file(\"token.json\", SCOPES)\n",
    "    if not creds or not creds.valid:\n",
    "        if creds and creds.expired and creds.refresh_token:\n",
    "            creds.refresh(Request())\n",
    "        else:\n",
    "            flow = InstalledAppFlow.from_client_secrets_file(\n",
    "                \"credentials.json\", SCOPES\n",
    "            )\n",
    "            creds = flow.run_local_server(port=8088)\n",
    "        with open(\"token.json\", \"w\") as token:\n",
    "            token.write(creds.to_json())\n",
    "\n",
    "    try:\n",
    "        service = build(\"calendar\", \"v3\", credentials=creds)\n",
    "        all_events = []\n",
    "\n",
    "        # Set timezone to IST (UTC+5:30)\n",
    "        tz = datetime.timezone(datetime.timedelta(hours=5, minutes=30))\n",
    "        try:\n",
    "            central_date = datetime.datetime.strptime(date, \"%Y-%m-%d\").replace(tzinfo=tz)\n",
    "        except ValueError:\n",
    "            return [{\"error\": \"Invalid date format. Please use YYYY-MM-DD\"}]\n",
    "\n",
    "        # Calculate date range\n",
    "        start_date = central_date - datetime.timedelta(days=days_before)\n",
    "        end_date = central_date + datetime.timedelta(days=days_after + 1)  # +1 to include the full last day\n",
    "\n",
    "        start = start_date.replace(hour=0, minute=0, second=0).isoformat()\n",
    "        end = end_date.replace(hour=23, minute=59, second=59).isoformat()\n",
    "\n",
    "        print(f\"Searching between {start_date.date()} and {end_date.date()} (India Time)\")\n",
    "\n",
    "        # Get list of all calendars\n",
    "        try:\n",
    "            calendar_list = service.calendarList().list().execute()\n",
    "            calendars = calendar_list.get('items', [])\n",
    "        except HttpError as e:\n",
    "            print(f\"Error getting calendars: {e}\")\n",
    "            calendars = []\n",
    "\n",
    "        # Always check primary calendar first\n",
    "        calendars.insert(0, {'id': 'primary', 'summary': 'Primary Calendar'})\n",
    "\n",
    "        for calendar in calendars:\n",
    "            calendar_id = calendar['id']\n",
    "            print(f\"\\nChecking calendar: {calendar.get('summary', 'Unknown')}\")\n",
    "\n",
    "            try:\n",
    "                events_result = service.events().list(\n",
    "                    calendarId=calendar_id,\n",
    "                    timeMin=start,\n",
    "                    timeMax=end,\n",
    "                    singleEvents=True,\n",
    "                    orderBy=\"startTime\"\n",
    "                ).execute()\n",
    "                events = events_result.get('items', [])\n",
    "                print(f\"Found {len(events)} events\")\n",
    "\n",
    "                # Format events before adding\n",
    "                for event in events:\n",
    "                    formatted_event = {\n",
    "                        'summary': event.get('summary', 'No title'),\n",
    "                        'start': event.get('start', {}),\n",
    "                        'end': event.get('end', {}),\n",
    "                        'calendar': calendar.get('summary', 'Unknown'),\n",
    "                        'date': event['start'].get('dateTime', event['start'].get('date'))[:10]  # Extract YYYY-MM-DD\n",
    "                    }\n",
    "                    all_events.append(formatted_event)\n",
    "\n",
    "            except HttpError as e:\n",
    "                print(f\"Error accessing calendar {calendar_id}: {e}\")\n",
    "                continue\n",
    "\n",
    "        if not all_events:\n",
    "            no_event_message = {\n",
    "                'summary': f'No events found between {start_date.date()} and {end_date.date()}',\n",
    "                'date_range': {\n",
    "                    'start': start_date.date().isoformat(),\n",
    "                    'end': end_date.date().isoformat()\n",
    "                },\n",
    "                'note': 'Checked all available calendars'\n",
    "            }\n",
    "            return [no_event_message]\n",
    "\n",
    "        # Sort events by date\n",
    "        all_events.sort(key=lambda x: x['date'])\n",
    "\n",
    "        return all_events\n",
    "\n",
    "    except HttpError as e:\n",
    "        return [{\"error\": f\"Calendar API error: {str(e)}\"}]\n",
    "    except Exception as e:\n",
    "        return [{\"error\": f\"Unexpected error: {str(e)}\"}]"
   ],
   "id": "e7e17e91622caf2c",
   "outputs": [],
   "execution_count": 68
  },
  {
   "metadata": {
    "ExecuteTime": {
     "end_time": "2025-06-11T10:46:41.912218Z",
     "start_time": "2025-06-11T10:46:41.834644Z"
    }
   },
   "cell_type": "code",
   "source": [
    "# Example usage\n",
    "if __name__ == \"__main__\":\n",
    "    date_to_check = \"2025-06-13\"\n",
    "    days=10\n",
    "    events = read_calendar(date_to_check,days,days)\n",
    "\n",
    "    print(\"\\nResults:\")\n",
    "    for event in events:\n",
    "        if 'error' in event:\n",
    "            print(f\"Error: {event['error']}\")\n",
    "        elif 'start' in event:\n",
    "            start = event[\"start\"].get(\"dateTime\", event[\"start\"].get(\"date\", \"No start time\"))\n",
    "            print(f\"{start}: {event['summary']} (Calendar: {event.get('calendar', 'Unknown')})\")\n",
    "        else:\n",
    "            print(f\"No events found in the specified date range\")"
   ],
   "id": "eb11b8eecf0c2e89",
   "outputs": [
    {
     "ename": "TypeError",
     "evalue": "BaseTool.__call__() takes from 2 to 3 positional arguments but 4 were given",
     "output_type": "error",
     "traceback": [
      "\u001B[31m---------------------------------------------------------------------------\u001B[39m",
      "\u001B[31mTypeError\u001B[39m                                 Traceback (most recent call last)",
      "\u001B[36mCell\u001B[39m\u001B[36m \u001B[39m\u001B[32mIn[69]\u001B[39m\u001B[32m, line 5\u001B[39m\n\u001B[32m      3\u001B[39m date_to_check = \u001B[33m\"\u001B[39m\u001B[33m2025-06-13\u001B[39m\u001B[33m\"\u001B[39m\n\u001B[32m      4\u001B[39m days=\u001B[32m10\u001B[39m\n\u001B[32m----> \u001B[39m\u001B[32m5\u001B[39m events = \u001B[43mread_calendar\u001B[49m\u001B[43m(\u001B[49m\u001B[43mdate_to_check\u001B[49m\u001B[43m,\u001B[49m\u001B[43mdays\u001B[49m\u001B[43m,\u001B[49m\u001B[43mdays\u001B[49m\u001B[43m)\u001B[49m\n\u001B[32m      7\u001B[39m \u001B[38;5;28mprint\u001B[39m(\u001B[33m\"\u001B[39m\u001B[38;5;130;01m\\n\u001B[39;00m\u001B[33mResults:\u001B[39m\u001B[33m\"\u001B[39m)\n\u001B[32m      8\u001B[39m \u001B[38;5;28;01mfor\u001B[39;00m event \u001B[38;5;129;01min\u001B[39;00m events:\n",
      "\u001B[36mFile \u001B[39m\u001B[32m~/PyCharmMiscProject/.venv/lib/python3.13/site-packages/langchain_core/_api/deprecation.py:191\u001B[39m, in \u001B[36mdeprecated.<locals>.deprecate.<locals>.warning_emitting_wrapper\u001B[39m\u001B[34m(*args, **kwargs)\u001B[39m\n\u001B[32m    189\u001B[39m     warned = \u001B[38;5;28;01mTrue\u001B[39;00m\n\u001B[32m    190\u001B[39m     emit_warning()\n\u001B[32m--> \u001B[39m\u001B[32m191\u001B[39m \u001B[38;5;28;01mreturn\u001B[39;00m \u001B[43mwrapped\u001B[49m\u001B[43m(\u001B[49m\u001B[43m*\u001B[49m\u001B[43margs\u001B[49m\u001B[43m,\u001B[49m\u001B[43m \u001B[49m\u001B[43m*\u001B[49m\u001B[43m*\u001B[49m\u001B[43mkwargs\u001B[49m\u001B[43m)\u001B[49m\n",
      "\u001B[31mTypeError\u001B[39m: BaseTool.__call__() takes from 2 to 3 positional arguments but 4 were given"
     ]
    }
   ],
   "execution_count": 69
  },
  {
   "metadata": {},
   "cell_type": "code",
   "outputs": [],
   "execution_count": null,
   "source": "",
   "id": "14101aabbb6080b3"
  }
 ],
 "metadata": {
  "kernelspec": {
   "display_name": "Python 3",
   "language": "python",
   "name": "python3"
  },
  "language_info": {
   "codemirror_mode": {
    "name": "ipython",
    "version": 2
   },
   "file_extension": ".py",
   "mimetype": "text/x-python",
   "name": "python",
   "nbconvert_exporter": "python",
   "pygments_lexer": "ipython2",
   "version": "2.7.6"
  }
 },
 "nbformat": 4,
 "nbformat_minor": 5
}
