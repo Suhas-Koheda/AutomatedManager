{
 "cells": [
  {
   "cell_type": "code",
   "id": "initial_id",
   "metadata": {
    "collapsed": true,
    "ExecuteTime": {
     "end_time": "2025-06-03T06:05:42.988575Z",
     "start_time": "2025-06-03T06:05:42.983637Z"
    }
   },
   "source": [
    "from mcp.server.fastmcp.prompts.base import UserMessage\n",
    "\n",
    "print(\"Hello\")"
   ],
   "outputs": [
    {
     "name": "stdout",
     "output_type": "stream",
     "text": [
      "Hello\n"
     ]
    }
   ],
   "execution_count": 3
  },
  {
   "metadata": {
    "ExecuteTime": {
     "end_time": "2025-06-03T00:56:53.966107Z",
     "start_time": "2025-06-03T00:56:19.395313Z"
    }
   },
   "cell_type": "code",
   "source": "!pip install langchain-core langchain-google-genai   langchain-community",
   "id": "2c4a871cf01f247c",
   "outputs": [
    {
     "name": "stdout",
     "output_type": "stream",
     "text": [
      "Collecting langchain-core\r\n",
      "  Downloading langchain_core-0.3.63-py3-none-any.whl.metadata (5.8 kB)\r\n",
      "Collecting langchain-google-genai\r\n",
      "  Downloading langchain_google_genai-2.1.5-py3-none-any.whl.metadata (5.2 kB)\r\n",
      "Collecting langchain-community\r\n",
      "  Downloading langchain_community-0.3.24-py3-none-any.whl.metadata (2.5 kB)\r\n",
      "Collecting langsmith<0.4,>=0.1.126 (from langchain-core)\r\n",
      "  Downloading langsmith-0.3.44-py3-none-any.whl.metadata (15 kB)\r\n",
      "Collecting tenacity!=8.4.0,<10.0.0,>=8.1.0 (from langchain-core)\r\n",
      "  Downloading tenacity-9.1.2-py3-none-any.whl.metadata (1.2 kB)\r\n",
      "Collecting jsonpatch<2.0,>=1.33 (from langchain-core)\r\n",
      "  Downloading jsonpatch-1.33-py2.py3-none-any.whl.metadata (3.0 kB)\r\n",
      "Requirement already satisfied: PyYAML>=5.3 in /home/ssp/PyCharmMiscProject/.venv/lib/python3.13/site-packages (from langchain-core) (6.0.2)\r\n",
      "Collecting packaging<25,>=23.2 (from langchain-core)\r\n",
      "  Using cached packaging-24.2-py3-none-any.whl.metadata (3.2 kB)\r\n",
      "Requirement already satisfied: typing-extensions>=4.7 in /home/ssp/PyCharmMiscProject/.venv/lib/python3.13/site-packages (from langchain-core) (4.13.2)\r\n",
      "Requirement already satisfied: pydantic>=2.7.4 in /home/ssp/PyCharmMiscProject/.venv/lib/python3.13/site-packages (from langchain-core) (2.11.4)\r\n",
      "Requirement already satisfied: jsonpointer>=1.9 in /home/ssp/PyCharmMiscProject/.venv/lib/python3.13/site-packages (from jsonpatch<2.0,>=1.33->langchain-core) (3.0.0)\r\n",
      "Requirement already satisfied: httpx<1,>=0.23.0 in /home/ssp/PyCharmMiscProject/.venv/lib/python3.13/site-packages (from langsmith<0.4,>=0.1.126->langchain-core) (0.28.1)\r\n",
      "Collecting orjson<4.0.0,>=3.9.14 (from langsmith<0.4,>=0.1.126->langchain-core)\r\n",
      "  Downloading orjson-3.10.18-cp313-cp313-manylinux_2_17_x86_64.manylinux2014_x86_64.whl.metadata (41 kB)\r\n",
      "Requirement already satisfied: requests<3,>=2 in /home/ssp/PyCharmMiscProject/.venv/lib/python3.13/site-packages (from langsmith<0.4,>=0.1.126->langchain-core) (2.32.3)\r\n",
      "Collecting requests-toolbelt<2.0.0,>=1.0.0 (from langsmith<0.4,>=0.1.126->langchain-core)\r\n",
      "  Using cached requests_toolbelt-1.0.0-py2.py3-none-any.whl.metadata (14 kB)\r\n",
      "Collecting zstandard<0.24.0,>=0.23.0 (from langsmith<0.4,>=0.1.126->langchain-core)\r\n",
      "  Downloading zstandard-0.23.0-cp313-cp313-manylinux_2_17_x86_64.manylinux2014_x86_64.whl.metadata (3.0 kB)\r\n",
      "Requirement already satisfied: anyio in /home/ssp/PyCharmMiscProject/.venv/lib/python3.13/site-packages (from httpx<1,>=0.23.0->langsmith<0.4,>=0.1.126->langchain-core) (4.9.0)\r\n",
      "Requirement already satisfied: certifi in /home/ssp/PyCharmMiscProject/.venv/lib/python3.13/site-packages (from httpx<1,>=0.23.0->langsmith<0.4,>=0.1.126->langchain-core) (2025.4.26)\r\n",
      "Requirement already satisfied: httpcore==1.* in /home/ssp/PyCharmMiscProject/.venv/lib/python3.13/site-packages (from httpx<1,>=0.23.0->langsmith<0.4,>=0.1.126->langchain-core) (1.0.9)\r\n",
      "Requirement already satisfied: idna in /home/ssp/PyCharmMiscProject/.venv/lib/python3.13/site-packages (from httpx<1,>=0.23.0->langsmith<0.4,>=0.1.126->langchain-core) (3.10)\r\n",
      "Requirement already satisfied: h11>=0.16 in /home/ssp/PyCharmMiscProject/.venv/lib/python3.13/site-packages (from httpcore==1.*->httpx<1,>=0.23.0->langsmith<0.4,>=0.1.126->langchain-core) (0.16.0)\r\n",
      "Requirement already satisfied: annotated-types>=0.6.0 in /home/ssp/PyCharmMiscProject/.venv/lib/python3.13/site-packages (from pydantic>=2.7.4->langchain-core) (0.7.0)\r\n",
      "Requirement already satisfied: pydantic-core==2.33.2 in /home/ssp/PyCharmMiscProject/.venv/lib/python3.13/site-packages (from pydantic>=2.7.4->langchain-core) (2.33.2)\r\n",
      "Requirement already satisfied: typing-inspection>=0.4.0 in /home/ssp/PyCharmMiscProject/.venv/lib/python3.13/site-packages (from pydantic>=2.7.4->langchain-core) (0.4.0)\r\n",
      "Requirement already satisfied: charset-normalizer<4,>=2 in /home/ssp/PyCharmMiscProject/.venv/lib/python3.13/site-packages (from requests<3,>=2->langsmith<0.4,>=0.1.126->langchain-core) (3.4.1)\r\n",
      "Requirement already satisfied: urllib3<3,>=1.21.1 in /home/ssp/PyCharmMiscProject/.venv/lib/python3.13/site-packages (from requests<3,>=2->langsmith<0.4,>=0.1.126->langchain-core) (2.4.0)\r\n",
      "Collecting filetype<2.0.0,>=1.2.0 (from langchain-google-genai)\r\n",
      "  Downloading filetype-1.2.0-py2.py3-none-any.whl.metadata (6.5 kB)\r\n",
      "Collecting google-ai-generativelanguage<0.7.0,>=0.6.18 (from langchain-google-genai)\r\n",
      "  Downloading google_ai_generativelanguage-0.6.18-py3-none-any.whl.metadata (9.8 kB)\r\n",
      "Requirement already satisfied: google-api-core!=2.0.*,!=2.1.*,!=2.10.*,!=2.2.*,!=2.3.*,!=2.4.*,!=2.5.*,!=2.6.*,!=2.7.*,!=2.8.*,!=2.9.*,<3.0.0,>=1.34.1 in /home/ssp/PyCharmMiscProject/.venv/lib/python3.13/site-packages (from google-api-core[grpc]!=2.0.*,!=2.1.*,!=2.10.*,!=2.2.*,!=2.3.*,!=2.4.*,!=2.5.*,!=2.6.*,!=2.7.*,!=2.8.*,!=2.9.*,<3.0.0,>=1.34.1->google-ai-generativelanguage<0.7.0,>=0.6.18->langchain-google-genai) (2.25.0rc1)\r\n",
      "Requirement already satisfied: google-auth!=2.24.0,!=2.25.0,<3.0.0,>=2.14.1 in /home/ssp/PyCharmMiscProject/.venv/lib/python3.13/site-packages (from google-ai-generativelanguage<0.7.0,>=0.6.18->langchain-google-genai) (2.40.1)\r\n",
      "Requirement already satisfied: proto-plus<2.0.0,>=1.22.3 in /home/ssp/PyCharmMiscProject/.venv/lib/python3.13/site-packages (from google-ai-generativelanguage<0.7.0,>=0.6.18->langchain-google-genai) (1.26.1)\r\n",
      "Requirement already satisfied: protobuf!=4.21.0,!=4.21.1,!=4.21.2,!=4.21.3,!=4.21.4,!=4.21.5,<7.0.0,>=3.20.2 in /home/ssp/PyCharmMiscProject/.venv/lib/python3.13/site-packages (from google-ai-generativelanguage<0.7.0,>=0.6.18->langchain-google-genai) (5.29.4)\r\n",
      "Requirement already satisfied: googleapis-common-protos<2.0.0,>=1.56.2 in /home/ssp/PyCharmMiscProject/.venv/lib/python3.13/site-packages (from google-api-core!=2.0.*,!=2.1.*,!=2.10.*,!=2.2.*,!=2.3.*,!=2.4.*,!=2.5.*,!=2.6.*,!=2.7.*,!=2.8.*,!=2.9.*,<3.0.0,>=1.34.1->google-api-core[grpc]!=2.0.*,!=2.1.*,!=2.10.*,!=2.2.*,!=2.3.*,!=2.4.*,!=2.5.*,!=2.6.*,!=2.7.*,!=2.8.*,!=2.9.*,<3.0.0,>=1.34.1->google-ai-generativelanguage<0.7.0,>=0.6.18->langchain-google-genai) (1.70.0)\r\n",
      "Requirement already satisfied: grpcio<2.0.0,>=1.33.2 in /home/ssp/PyCharmMiscProject/.venv/lib/python3.13/site-packages (from google-api-core[grpc]!=2.0.*,!=2.1.*,!=2.10.*,!=2.2.*,!=2.3.*,!=2.4.*,!=2.5.*,!=2.6.*,!=2.7.*,!=2.8.*,!=2.9.*,<3.0.0,>=1.34.1->google-ai-generativelanguage<0.7.0,>=0.6.18->langchain-google-genai) (1.71.0)\r\n",
      "Requirement already satisfied: grpcio-status<2.0.0,>=1.33.2 in /home/ssp/PyCharmMiscProject/.venv/lib/python3.13/site-packages (from google-api-core[grpc]!=2.0.*,!=2.1.*,!=2.10.*,!=2.2.*,!=2.3.*,!=2.4.*,!=2.5.*,!=2.6.*,!=2.7.*,!=2.8.*,!=2.9.*,<3.0.0,>=1.34.1->google-ai-generativelanguage<0.7.0,>=0.6.18->langchain-google-genai) (1.71.0)\r\n",
      "Requirement already satisfied: cachetools<6.0,>=2.0.0 in /home/ssp/PyCharmMiscProject/.venv/lib/python3.13/site-packages (from google-auth!=2.24.0,!=2.25.0,<3.0.0,>=2.14.1->google-ai-generativelanguage<0.7.0,>=0.6.18->langchain-google-genai) (5.5.2)\r\n",
      "Requirement already satisfied: pyasn1-modules>=0.2.1 in /home/ssp/PyCharmMiscProject/.venv/lib/python3.13/site-packages (from google-auth!=2.24.0,!=2.25.0,<3.0.0,>=2.14.1->google-ai-generativelanguage<0.7.0,>=0.6.18->langchain-google-genai) (0.4.2)\r\n",
      "Requirement already satisfied: rsa<5,>=3.1.4 in /home/ssp/PyCharmMiscProject/.venv/lib/python3.13/site-packages (from google-auth!=2.24.0,!=2.25.0,<3.0.0,>=2.14.1->google-ai-generativelanguage<0.7.0,>=0.6.18->langchain-google-genai) (4.9.1)\r\n",
      "Requirement already satisfied: pyasn1>=0.1.3 in /home/ssp/PyCharmMiscProject/.venv/lib/python3.13/site-packages (from rsa<5,>=3.1.4->google-auth!=2.24.0,!=2.25.0,<3.0.0,>=2.14.1->google-ai-generativelanguage<0.7.0,>=0.6.18->langchain-google-genai) (0.6.1)\r\n",
      "Collecting langchain<1.0.0,>=0.3.25 (from langchain-community)\r\n",
      "  Downloading langchain-0.3.25-py3-none-any.whl.metadata (7.8 kB)\r\n",
      "Requirement already satisfied: SQLAlchemy<3,>=1.4 in /home/ssp/PyCharmMiscProject/.venv/lib/python3.13/site-packages (from langchain-community) (2.0.41)\r\n",
      "Requirement already satisfied: aiohttp<4.0.0,>=3.8.3 in /home/ssp/PyCharmMiscProject/.venv/lib/python3.13/site-packages (from langchain-community) (3.11.18)\r\n",
      "Collecting dataclasses-json<0.7,>=0.5.7 (from langchain-community)\r\n",
      "  Downloading dataclasses_json-0.6.7-py3-none-any.whl.metadata (25 kB)\r\n",
      "Requirement already satisfied: pydantic-settings<3.0.0,>=2.4.0 in /home/ssp/PyCharmMiscProject/.venv/lib/python3.13/site-packages (from langchain-community) (2.9.1)\r\n",
      "Requirement already satisfied: httpx-sse<1.0.0,>=0.4.0 in /home/ssp/PyCharmMiscProject/.venv/lib/python3.13/site-packages (from langchain-community) (0.4.0)\r\n",
      "Requirement already satisfied: numpy>=2.1.0 in /home/ssp/PyCharmMiscProject/.venv/lib/python3.13/site-packages (from langchain-community) (2.2.5)\r\n",
      "Requirement already satisfied: aiohappyeyeballs>=2.3.0 in /home/ssp/PyCharmMiscProject/.venv/lib/python3.13/site-packages (from aiohttp<4.0.0,>=3.8.3->langchain-community) (2.6.1)\r\n",
      "Requirement already satisfied: aiosignal>=1.1.2 in /home/ssp/PyCharmMiscProject/.venv/lib/python3.13/site-packages (from aiohttp<4.0.0,>=3.8.3->langchain-community) (1.3.2)\r\n",
      "Requirement already satisfied: attrs>=17.3.0 in /home/ssp/PyCharmMiscProject/.venv/lib/python3.13/site-packages (from aiohttp<4.0.0,>=3.8.3->langchain-community) (25.3.0)\r\n",
      "Requirement already satisfied: frozenlist>=1.1.1 in /home/ssp/PyCharmMiscProject/.venv/lib/python3.13/site-packages (from aiohttp<4.0.0,>=3.8.3->langchain-community) (1.6.0)\r\n",
      "Requirement already satisfied: multidict<7.0,>=4.5 in /home/ssp/PyCharmMiscProject/.venv/lib/python3.13/site-packages (from aiohttp<4.0.0,>=3.8.3->langchain-community) (6.4.3)\r\n",
      "Requirement already satisfied: propcache>=0.2.0 in /home/ssp/PyCharmMiscProject/.venv/lib/python3.13/site-packages (from aiohttp<4.0.0,>=3.8.3->langchain-community) (0.3.1)\r\n",
      "Requirement already satisfied: yarl<2.0,>=1.17.0 in /home/ssp/PyCharmMiscProject/.venv/lib/python3.13/site-packages (from aiohttp<4.0.0,>=3.8.3->langchain-community) (1.20.0)\r\n",
      "Collecting marshmallow<4.0.0,>=3.18.0 (from dataclasses-json<0.7,>=0.5.7->langchain-community)\r\n",
      "  Downloading marshmallow-3.26.1-py3-none-any.whl.metadata (7.3 kB)\r\n",
      "Collecting typing-inspect<1,>=0.4.0 (from dataclasses-json<0.7,>=0.5.7->langchain-community)\r\n",
      "  Downloading typing_inspect-0.9.0-py3-none-any.whl.metadata (1.5 kB)\r\n",
      "Collecting langchain-text-splitters<1.0.0,>=0.3.8 (from langchain<1.0.0,>=0.3.25->langchain-community)\r\n",
      "  Downloading langchain_text_splitters-0.3.8-py3-none-any.whl.metadata (1.9 kB)\r\n",
      "Requirement already satisfied: python-dotenv>=0.21.0 in /home/ssp/PyCharmMiscProject/.venv/lib/python3.13/site-packages (from pydantic-settings<3.0.0,>=2.4.0->langchain-community) (1.1.0)\r\n",
      "Requirement already satisfied: greenlet>=1 in /home/ssp/PyCharmMiscProject/.venv/lib/python3.13/site-packages (from SQLAlchemy<3,>=1.4->langchain-community) (3.2.2)\r\n",
      "Collecting mypy-extensions>=0.3.0 (from typing-inspect<1,>=0.4.0->dataclasses-json<0.7,>=0.5.7->langchain-community)\r\n",
      "  Downloading mypy_extensions-1.1.0-py3-none-any.whl.metadata (1.1 kB)\r\n",
      "Requirement already satisfied: sniffio>=1.1 in /home/ssp/PyCharmMiscProject/.venv/lib/python3.13/site-packages (from anyio->httpx<1,>=0.23.0->langsmith<0.4,>=0.1.126->langchain-core) (1.3.1)\r\n",
      "Downloading langchain_core-0.3.63-py3-none-any.whl (438 kB)\r\n",
      "Downloading jsonpatch-1.33-py2.py3-none-any.whl (12 kB)\r\n",
      "Downloading langsmith-0.3.44-py3-none-any.whl (361 kB)\r\n",
      "Downloading orjson-3.10.18-cp313-cp313-manylinux_2_17_x86_64.manylinux2014_x86_64.whl (133 kB)\r\n",
      "Downloading packaging-24.2-py3-none-any.whl (65 kB)\r\n",
      "Using cached requests_toolbelt-1.0.0-py2.py3-none-any.whl (54 kB)\r\n",
      "Downloading tenacity-9.1.2-py3-none-any.whl (28 kB)\r\n",
      "Downloading zstandard-0.23.0-cp313-cp313-manylinux_2_17_x86_64.manylinux2014_x86_64.whl (5.4 MB)\r\n",
      "\u001B[2K   \u001B[90m━━━━━━━━━━━━━━━━━━━━━━━━━━━━━━━━━━━━━━━━\u001B[0m \u001B[32m5.4/5.4 MB\u001B[0m \u001B[31m1.3 MB/s\u001B[0m eta \u001B[36m0:00:00\u001B[0ma \u001B[36m0:00:01\u001B[0m\r\n",
      "\u001B[?25hDownloading langchain_google_genai-2.1.5-py3-none-any.whl (44 kB)\r\n",
      "Downloading filetype-1.2.0-py2.py3-none-any.whl (19 kB)\r\n",
      "Downloading google_ai_generativelanguage-0.6.18-py3-none-any.whl (1.4 MB)\r\n",
      "\u001B[2K   \u001B[90m━━━━━━━━━━━━━━━━━━━━━━━━━━━━━━━━━━━━━━━━\u001B[0m \u001B[32m1.4/1.4 MB\u001B[0m \u001B[31m806.2 kB/s\u001B[0m eta \u001B[36m0:00:00\u001B[0ma \u001B[36m0:00:01\u001B[0m\r\n",
      "\u001B[?25hDownloading langchain_community-0.3.24-py3-none-any.whl (2.5 MB)\r\n",
      "\u001B[2K   \u001B[90m━━━━━━━━━━━━━━━━━━━━━━━━━━━━━━━━━━━━━━━━\u001B[0m \u001B[32m2.5/2.5 MB\u001B[0m \u001B[31m696.5 kB/s\u001B[0m eta \u001B[36m0:00:00\u001B[0ma \u001B[36m0:00:01\u001B[0m\r\n",
      "\u001B[?25hDownloading dataclasses_json-0.6.7-py3-none-any.whl (28 kB)\r\n",
      "Downloading langchain-0.3.25-py3-none-any.whl (1.0 MB)\r\n",
      "\u001B[2K   \u001B[90m━━━━━━━━━━━━━━━━━━━━━━━━━━━━━━━━━━━━━━━━\u001B[0m \u001B[32m1.0/1.0 MB\u001B[0m \u001B[31m629.0 kB/s\u001B[0m eta \u001B[36m0:00:00\u001B[0ma \u001B[36m0:00:01\u001B[0m\r\n",
      "\u001B[?25hDownloading langchain_text_splitters-0.3.8-py3-none-any.whl (32 kB)\r\n",
      "Downloading marshmallow-3.26.1-py3-none-any.whl (50 kB)\r\n",
      "Downloading typing_inspect-0.9.0-py3-none-any.whl (8.8 kB)\r\n",
      "Downloading mypy_extensions-1.1.0-py3-none-any.whl (5.0 kB)\r\n",
      "Installing collected packages: filetype, zstandard, tenacity, packaging, orjson, mypy-extensions, jsonpatch, typing-inspect, requests-toolbelt, marshmallow, langsmith, dataclasses-json, langchain-core, langchain-text-splitters, google-ai-generativelanguage, langchain-google-genai, langchain, langchain-community\r\n",
      "\u001B[2K  Attempting uninstall: packaging━━━━━━━━━━━━━━━━━━━━━━━━━━━━━━━━━\u001B[0m \u001B[32m 1/18\u001B[0m [zstandard]\r\n",
      "\u001B[2K    Found existing installation: packaging 25.0━━━━━━━━━━━━━━━\u001B[0m \u001B[32m 1/18\u001B[0m [zstandard]\r\n",
      "\u001B[2K    Uninstalling packaging-25.0:━━━━━━━━━━━━━━━━━━━━━━━━━━━━━━\u001B[0m \u001B[32m 1/18\u001B[0m [zstandard]\r\n",
      "\u001B[2K      Successfully uninstalled packaging-25.0━━━━━━━━━━━━━━━━━\u001B[0m \u001B[32m 1/18\u001B[0m [zstandard]\r\n",
      "\u001B[2K  Attempting uninstall: google-ai-generativelanguagem━━━━━━━━━━━━━\u001B[0m \u001B[32m12/18\u001B[0m [langchain-core]]\r\n",
      "\u001B[2K    Found existing installation: google-ai-generativelanguage 0.6.15[32m12/18\u001B[0m [langchain-core]\r\n",
      "\u001B[2K    Uninstalling google-ai-generativelanguage-0.6.15:\u001B[90m━━━━━━━━\u001B[0m \u001B[32m14/18\u001B[0m [google-ai-generativelanguage]\r\n",
      "\u001B[2K      Successfully uninstalled google-ai-generativelanguage-0.6.15 \u001B[32m14/18\u001B[0m [google-ai-generativelanguage]\r\n",
      "\u001B[2K   \u001B[90m━━━━━━━━━━━━━━━━━━━━━━━━━━━━━━━━━━━━━━━━\u001B[0m \u001B[32m18/18\u001B[0m [langchain-community]ngchain-community]language]\r\n",
      "\u001B[1A\u001B[2K\u001B[31mERROR: pip's dependency resolver does not currently take into account all the packages that are installed. This behaviour is the source of the following dependency conflicts.\r\n",
      "google-generativeai 0.8.5 requires google-ai-generativelanguage==0.6.15, but you have google-ai-generativelanguage 0.6.18 which is incompatible.\u001B[0m\u001B[31m\r\n",
      "\u001B[0mSuccessfully installed dataclasses-json-0.6.7 filetype-1.2.0 google-ai-generativelanguage-0.6.18 jsonpatch-1.33 langchain-0.3.25 langchain-community-0.3.24 langchain-core-0.3.63 langchain-google-genai-2.1.5 langchain-text-splitters-0.3.8 langsmith-0.3.44 marshmallow-3.26.1 mypy-extensions-1.1.0 orjson-3.10.18 packaging-24.2 requests-toolbelt-1.0.0 tenacity-9.1.2 typing-inspect-0.9.0 zstandard-0.23.0\r\n"
     ]
    }
   ],
   "execution_count": 2
  },
  {
   "metadata": {
    "ExecuteTime": {
     "end_time": "2025-06-03T02:57:52.050617Z",
     "start_time": "2025-06-03T02:57:39.688346Z"
    }
   },
   "cell_type": "code",
   "source": [
    "import getpass\n",
    "import os\n",
    "\n",
    "#if \"GOOGLE_API_KEY\" not in os.environ:\n",
    "os.environ[\"GOOGLE_API_KEY\"] = getpass.getpass(\"Enter your Google AI API key: \")"
   ],
   "id": "548b97bd4d9ccc94",
   "outputs": [],
   "execution_count": 2
  },
  {
   "metadata": {
    "ExecuteTime": {
     "end_time": "2025-06-03T01:21:01.483260Z",
     "start_time": "2025-06-03T01:20:58.919134Z"
    }
   },
   "cell_type": "code",
   "source": [
    "from langchain_google_genai import GoogleGenerativeAI, ChatGoogleGenerativeAI\n",
    "\n",
    "llm=ChatGoogleGenerativeAI(model=\"gemini-1.5-flash\", temperature=1.0)\n",
    "\n",
    "llm.invoke(\"What is the capital of France?\")"
   ],
   "id": "62f9379cf9203d20",
   "outputs": [
    {
     "data": {
      "text/plain": [
       "AIMessage(content='Paris', additional_kwargs={}, response_metadata={'prompt_feedback': {'block_reason': 0, 'safety_ratings': []}, 'finish_reason': 'STOP', 'model_name': 'gemini-1.5-flash', 'safety_ratings': []}, id='run--f0ffc279-6a9a-4db0-950c-813ff7f6b3d5-0', usage_metadata={'input_tokens': 7, 'output_tokens': 2, 'total_tokens': 9, 'input_token_details': {'cache_read': 0}})"
      ]
     },
     "execution_count": 21,
     "metadata": {},
     "output_type": "execute_result"
    }
   ],
   "execution_count": 21
  },
  {
   "metadata": {
    "ExecuteTime": {
     "end_time": "2025-06-03T01:09:03.810652Z",
     "start_time": "2025-06-03T01:09:03.800664Z"
    }
   },
   "cell_type": "code",
   "source": [
    "from langchain.prompts import ChatPromptTemplate, HumanMessagePromptTemplate, SystemMessagePromptTemplate\n",
    "\n",
    "system=SystemMessagePromptTemplate.from_template(\n",
    "    \"This is an ai assistant that asks questions regarding particularly to given {topic}. \",\n",
    "    input_variables=[\"topic\"]\n",
    ")\n",
    "\n",
    "user_prompt=HumanMessagePromptTemplate.from_template(\n",
    "    \"You are requested to generate 10 questions regarding the topic user asks. be very specific about the topic and do not ask any questions that are not related to the topic. The topic is {topic}. Also if th user requires any specific question also ask that question. Do not ask any questions that are not related to the topic. The user specific questions are {user_questions}. Generate the questions in a list format. Also at last i expect you yo give me answers to the respective questions \",\n",
    "    input_variables=[\"topic\",\"user_questions\"]\n",
    ")"
   ],
   "id": "561e3b72aa94ad8b",
   "outputs": [],
   "execution_count": 13
  },
  {
   "metadata": {
    "ExecuteTime": {
     "end_time": "2025-06-03T01:12:30.580328Z",
     "start_time": "2025-06-03T01:12:30.573214Z"
    }
   },
   "cell_type": "code",
   "source": [
    "user_prompt.format(topic=\"Kotlin\",user_questions=[\"what is Kotlin Multiplatform? and how is it better from Flutter \"])\n",
    "chat_prompt=ChatPromptTemplate.from_messages([system,user_prompt])"
   ],
   "id": "375d5c3da0d9f3e4",
   "outputs": [],
   "execution_count": 17
  },
  {
   "metadata": {
    "ExecuteTime": {
     "end_time": "2025-06-03T01:15:27.953485Z",
     "start_time": "2025-06-03T01:15:19.303232Z"
    }
   },
   "cell_type": "code",
   "source": [
    "chain1=(\n",
    "    {\"topic\":lambda x:x[\"topic\"],\"user_questions\":lambda x:x[\"user_questions\"]}\n",
    "    | chat_prompt\n",
    "    | llm\n",
    "    | {\"questions\": lambda x:x.content}\n",
    ")\n",
    "\n",
    "chain1.invoke({\"topic\":\"Kotlin\",\"user_questions\":[\"what is Kotlin Multiplatform? and how is it better from Flutter \"]})"
   ],
   "id": "bc6f64eca1cb6854",
   "outputs": [
    {
     "data": {
      "text/plain": [
       "{'questions': 'Here are 10 questions about Kotlin, including the user-specified questions, followed by their answers.\\n\\n**Questions:**\\n\\n1. What is Kotlin, and what are its primary advantages over Java in Android development?\\n2. Explain the concept of null safety in Kotlin and how it helps prevent NullPointerExceptions.  Provide examples.\\n3. Describe the different ways to handle collections in Kotlin, including immutable and mutable collections.  Give examples of common operations.\\n4. How does Kotlin\\'s coroutines mechanism work, and what are its benefits for asynchronous programming?  Compare it to other approaches.\\n5. What are extension functions in Kotlin, and how can they enhance code readability and maintainability? Provide a practical example.\\n6. Explain the use of sealed classes in Kotlin and how they contribute to type safety and pattern matching.  Give an example scenario.\\n7. What is Kotlin Multiplatform? and how is it better from Flutter?\\n8.  How does Kotlin\\'s data classes simplify the creation of classes primarily used to hold data?  Give an example and compare it to a traditional class.\\n9.  Explain the concept of higher-order functions in Kotlin and provide examples of their use with lambdas.\\n10. Describe how to use Kotlin\\'s delegation pattern to implement interfaces or properties more concisely.  Provide an example.\\n\\n\\n**Answers:**\\n\\n1. Kotlin is a statically-typed, modern programming language that runs on the Java Virtual Machine (JVM) and can also be compiled to JavaScript or native code.  Its advantages over Java in Android development include conciseness (less boilerplate code), null safety, improved interoperability with Java, and enhanced features like coroutines and extension functions.\\n\\n2. Kotlin\\'s null safety prevents `NullPointerExceptions` by explicitly distinguishing between nullable and non-nullable types.  A nullable type is declared using a `?` (e.g., `String?`).  Accessing a nullable variable requires a null check (using `?.`, `?:`, or the `!!` operator – the latter should be used cautiously).  Example: `val name: String? = \"Alice\"  println(name?.length ?: 0)`  This safely handles the case where `name` might be null.\\n\\n3. Kotlin offers various collection types (List, Set, Map) in both mutable (modifiable) and immutable (unmodifiable) forms.  Common operations include `add`, `remove`, `filter`, `map`, `reduce`, etc.  Immutable collections enhance thread safety.  Examples: `val immutableList = listOf(1, 2, 3); val mutableList = mutableListOf(1, 2, 3)`\\n\\n4. Kotlin coroutines provide a lightweight way to write asynchronous code without the complexity of callbacks or threads.  They use a suspending function mechanism to pause and resume execution, making asynchronous code look and behave like synchronous code.  This improves readability and maintainability compared to traditional approaches like callbacks or `Future` objects.\\n\\n5. Extension functions allow you to add new functionality to existing classes without modifying their source code.  This enhances code reusability and readability.  Example:  `fun String.toUpperFirst(): String = this.substring(0, 1).toUpperCase() + this.substring(1)`  This adds a `toUpperFirst()` function to the `String` class.\\n\\n6. Sealed classes are used to represent a restricted set of types.  They are helpful when you want to ensure that only a specific set of subclasses can be used.  This improves type safety and allows for exhaustive pattern matching (using `when`).  Example:  `sealed class Shape { data class Circle(val radius: Double) : Shape; data class Square(val side: Double) : Shape }`\\n\\n7. Kotlin Multiplatform (KMP) allows you to share code between different platforms (Android, iOS, Web, Desktop) using a single Kotlin codebase.  While Flutter also offers cross-platform development, KMP offers better interoperability with existing native code and leverages the strengths of Kotlin\\'s language features.  KMP might be preferred when deep integration with native features is crucial, while Flutter might be favored for faster UI development and a larger community.  The \"better\" choice depends on the specific project requirements.\\n\\n8. Kotlin\\'s data classes automatically generate boilerplate code (equals(), hashCode(), toString(), copy(), componentN()) for classes primarily used to hold data.  Example: `data class Person(val name: String, val age: Int)`  This is much more concise than writing these methods manually.\\n\\n9. Higher-order functions are functions that take other functions as arguments or return functions as results.  They are often used with lambdas (anonymous functions) to create concise and expressive code.  Example: `val numbers = listOf(1, 2, 3, 4, 5); val doubledNumbers = numbers.map { it * 2 }`\\n\\n10. Kotlin\\'s delegation pattern allows you to delegate the implementation of an interface or property to another object.  This simplifies code and promotes code reuse.  Example:  `class LazyProperty(val initializer: () -> Int) { operator fun getValue(thisRef: Any?, property: KProperty<*>): Int = initializer() }`  This creates a lazy property that only initializes when accessed.'}"
      ]
     },
     "execution_count": 20,
     "metadata": {},
     "output_type": "execute_result"
    }
   ],
   "execution_count": 20
  },
  {
   "metadata": {
    "ExecuteTime": {
     "end_time": "2025-06-03T01:21:22.376617Z",
     "start_time": "2025-06-03T01:21:14.527344Z"
    }
   },
   "cell_type": "code",
   "source": [
    "chain2=(\n",
    "        {\"topic\":lambda x:x[\"topic\"],\"user_questions\":lambda x:x[\"user_questions\"]}\n",
    "        | chat_prompt\n",
    "        | llm\n",
    "        | {\"questions\": lambda x:x.content}\n",
    ")\n",
    "\n",
    "chain2.invoke({\"topic\":\"Kotlin\",\"user_questions\":[\"what is Kotlin Multiplatform? and how is it better from Flutter \"]})"
   ],
   "id": "49a310fb4705ca2d",
   "outputs": [
    {
     "data": {
      "text/plain": [
       "{'questions': \"Here are 10 questions about Kotlin, including the user-specified questions, followed by their answers:\\n\\n**Questions:**\\n\\n1. What is Kotlin, and what are its primary advantages over Java in Android development?\\n2. Explain the concept of null safety in Kotlin and how it helps prevent NullPointerExceptions.  Provide examples.\\n3. Describe Kotlin's coroutines and their use in asynchronous programming.  How do they compare to other approaches like callbacks or RxJava?\\n4. How does Kotlin support functional programming paradigms? Give examples of higher-order functions and lambda expressions.\\n5. What are data classes in Kotlin, and how do they simplify code compared to manually creating classes with getters, setters, `equals()`, `hashCode()`, and `toString()` methods?\\n6. Explain the difference between `val` and `var` in Kotlin.\\n7. What are sealed classes in Kotlin, and when would you use them? Provide a practical example.\\n8. What is Kotlin Multiplatform? and how is it better from Flutter?\\n9. How does Kotlin's extension functions work, and provide an example showcasing its utility.\\n10.  Describe the use of delegated properties in Kotlin and give an example using `lazy` delegation.\\n\\n\\n**Answers:**\\n\\n1. Kotlin is a statically-typed, modern programming language that runs on the Java Virtual Machine (JVM) and can also be compiled to JavaScript or native code.  Key advantages over Java in Android development include conciseness (less boilerplate code), null safety, improved interoperability with Java, and support for functional programming features.\\n\\n2. Kotlin's null safety is a crucial feature that prevents `NullPointerExceptions` (NPEs) by explicitly requiring developers to handle the possibility of null values.  This is achieved through the type system:  `String?` represents a nullable String, while `String` represents a non-nullable String.  The compiler enforces checks to prevent accidental access to null values.  Example:  `val name: String? = null; val length = name?.length ?: 0` (safe call and elvis operator used).\\n\\n3. Kotlin coroutines provide a lightweight way to write asynchronous code without blocking the main thread.  They are built upon the concept of suspending functions, which can pause their execution without blocking the thread. This leads to more readable and maintainable asynchronous code compared to callbacks or RxJava's complex observer patterns. Coroutines offer structured concurrency, easier error handling and better performance in some scenarios.\\n\\n4. Kotlin strongly supports functional programming. Higher-order functions are functions that can take other functions as arguments or return functions as results. Lambda expressions provide a concise way to define anonymous functions.  Example: `list.filter { it > 10 }` (filtering a list using a lambda).\\n\\n5. Data classes in Kotlin automatically generate boilerplate code such as `equals()`, `hashCode()`, `toString()`, and `copy()` methods based on the class's properties.  This significantly reduces the amount of code needed to create simple classes that primarily hold data.  Example: `data class Person(val name: String, val age: Int)`\\n\\n6. In Kotlin, `val` declares an immutable variable (read-only), while `var` declares a mutable variable (read-write).  Once a `val` is assigned a value, it cannot be reassigned.\\n\\n7. Sealed classes are used to represent a restricted set of values.  They are helpful when you know all possible states of an object.  This enables the compiler to perform exhaustive checks, ensuring that all possible cases are handled in `when` statements. Example: `sealed class Result { data class Success(val data: String) : Result() ; data class Error(val message: String) : Result() }`\\n\\n8. Kotlin Multiplatform (KMP) allows developers to share code across multiple platforms (Android, iOS, Web, Desktop) using a single Kotlin codebase.  While Flutter also allows cross-platform development, KMP offers several advantages:  it leverages native UI components for better performance and platform integration; uses existing platform tools and ecosystems, better integration with existing projects, and gradual adoption is possible within existing projects.  Flutter, on the other hand, relies on its own rendering engine, which may result in inconsistencies between platforms and a steeper learning curve.\\n\\n9. Extension functions allow adding new functionality to existing classes without modifying their source code. This enhances code reusability and readability. Example: `fun String.capitalizeFirst(): String = this.substring(0, 1).toUpperCase() + this.substring(1)` adds a `capitalizeFirst()` function to the `String` class.\\n\\n10. Delegated properties allow transferring responsibility for implementing property access to another object, simplifying class implementation.  `lazy` delegation creates a property that is initialized only when it is first accessed. Example: `val lazyValue: String by lazy { expensiveComputation() }`  The `expensiveComputation()` is only called the first time `lazyValue` is accessed.\"}"
      ]
     },
     "execution_count": 22,
     "metadata": {},
     "output_type": "execute_result"
    }
   ],
   "execution_count": 22
  },
  {
   "metadata": {},
   "cell_type": "code",
   "outputs": [],
   "execution_count": null,
   "source": "",
   "id": "84380ff7fe34ce87"
  }
 ],
 "metadata": {
  "kernelspec": {
   "display_name": "Python 3",
   "language": "python",
   "name": "python3"
  },
  "language_info": {
   "codemirror_mode": {
    "name": "ipython",
    "version": 2
   },
   "file_extension": ".py",
   "mimetype": "text/x-python",
   "name": "python",
   "nbconvert_exporter": "python",
   "pygments_lexer": "ipython2",
   "version": "2.7.6"
  }
 },
 "nbformat": 4,
 "nbformat_minor": 5
}
