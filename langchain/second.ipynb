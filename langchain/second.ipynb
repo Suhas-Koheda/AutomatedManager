{
 "cells": [
  {
   "cell_type": "code",
   "id": "initial_id",
   "metadata": {
    "collapsed": true,
    "ExecuteTime": {
     "end_time": "2025-06-03T06:21:38.210439Z",
     "start_time": "2025-06-03T06:21:38.205752Z"
    }
   },
   "source": "print(\"Hello\")",
   "outputs": [
    {
     "name": "stdout",
     "output_type": "stream",
     "text": [
      "Hello\n"
     ]
    }
   ],
   "execution_count": 1
  },
  {
   "metadata": {
    "ExecuteTime": {
     "end_time": "2025-06-03T06:26:17.774247Z",
     "start_time": "2025-06-03T06:26:14.736125Z"
    }
   },
   "cell_type": "code",
   "source": " !pip install langsmith",
   "id": "4eb75e794507ef5e",
   "outputs": [
    {
     "name": "stdout",
     "output_type": "stream",
     "text": [
      "Collecting langsmith\r\n",
      "  Using cached langsmith-0.3.44-py3-none-any.whl.metadata (15 kB)\r\n",
      "Requirement already satisfied: httpx<1,>=0.23.0 in /home/ssp/PyCharmMiscProject/.venv/lib/python3.13/site-packages (from langsmith) (0.28.1)\r\n",
      "Requirement already satisfied: orjson<4.0.0,>=3.9.14 in /home/ssp/PyCharmMiscProject/.venv/lib/python3.13/site-packages (from langsmith) (3.10.18)\r\n",
      "Requirement already satisfied: packaging>=23.2 in /home/ssp/PyCharmMiscProject/.venv/lib/python3.13/site-packages (from langsmith) (24.2)\r\n",
      "Requirement already satisfied: pydantic<3.0.0,>=2.7.4 in /home/ssp/PyCharmMiscProject/.venv/lib/python3.13/site-packages (from langsmith) (2.11.4)\r\n",
      "Requirement already satisfied: requests<3,>=2 in /home/ssp/PyCharmMiscProject/.venv/lib/python3.13/site-packages (from langsmith) (2.32.3)\r\n",
      "Requirement already satisfied: requests-toolbelt<2.0.0,>=1.0.0 in /home/ssp/PyCharmMiscProject/.venv/lib/python3.13/site-packages (from langsmith) (1.0.0)\r\n",
      "Requirement already satisfied: zstandard<0.24.0,>=0.23.0 in /home/ssp/PyCharmMiscProject/.venv/lib/python3.13/site-packages (from langsmith) (0.23.0)\r\n",
      "Requirement already satisfied: anyio in /home/ssp/PyCharmMiscProject/.venv/lib/python3.13/site-packages (from httpx<1,>=0.23.0->langsmith) (4.9.0)\r\n",
      "Requirement already satisfied: certifi in /home/ssp/PyCharmMiscProject/.venv/lib/python3.13/site-packages (from httpx<1,>=0.23.0->langsmith) (2025.4.26)\r\n",
      "Requirement already satisfied: httpcore==1.* in /home/ssp/PyCharmMiscProject/.venv/lib/python3.13/site-packages (from httpx<1,>=0.23.0->langsmith) (1.0.9)\r\n",
      "Requirement already satisfied: idna in /home/ssp/PyCharmMiscProject/.venv/lib/python3.13/site-packages (from httpx<1,>=0.23.0->langsmith) (3.10)\r\n",
      "Requirement already satisfied: h11>=0.16 in /home/ssp/PyCharmMiscProject/.venv/lib/python3.13/site-packages (from httpcore==1.*->httpx<1,>=0.23.0->langsmith) (0.16.0)\r\n",
      "Requirement already satisfied: annotated-types>=0.6.0 in /home/ssp/PyCharmMiscProject/.venv/lib/python3.13/site-packages (from pydantic<3.0.0,>=2.7.4->langsmith) (0.7.0)\r\n",
      "Requirement already satisfied: pydantic-core==2.33.2 in /home/ssp/PyCharmMiscProject/.venv/lib/python3.13/site-packages (from pydantic<3.0.0,>=2.7.4->langsmith) (2.33.2)\r\n",
      "Requirement already satisfied: typing-extensions>=4.12.2 in /home/ssp/PyCharmMiscProject/.venv/lib/python3.13/site-packages (from pydantic<3.0.0,>=2.7.4->langsmith) (4.13.2)\r\n",
      "Requirement already satisfied: typing-inspection>=0.4.0 in /home/ssp/PyCharmMiscProject/.venv/lib/python3.13/site-packages (from pydantic<3.0.0,>=2.7.4->langsmith) (0.4.0)\r\n",
      "Requirement already satisfied: charset-normalizer<4,>=2 in /home/ssp/PyCharmMiscProject/.venv/lib/python3.13/site-packages (from requests<3,>=2->langsmith) (3.4.1)\r\n",
      "Requirement already satisfied: urllib3<3,>=1.21.1 in /home/ssp/PyCharmMiscProject/.venv/lib/python3.13/site-packages (from requests<3,>=2->langsmith) (2.4.0)\r\n",
      "Requirement already satisfied: sniffio>=1.1 in /home/ssp/PyCharmMiscProject/.venv/lib/python3.13/site-packages (from anyio->httpx<1,>=0.23.0->langsmith) (1.3.1)\r\n",
      "Using cached langsmith-0.3.44-py3-none-any.whl (361 kB)\r\n",
      "Installing collected packages: langsmith\r\n",
      "Successfully installed langsmith-0.3.44\r\n"
     ]
    }
   ],
   "execution_count": 2
  },
  {
   "metadata": {
    "ExecuteTime": {
     "end_time": "2025-06-03T11:26:54.046714Z",
     "start_time": "2025-06-03T11:26:49.616470Z"
    }
   },
   "cell_type": "code",
   "source": [
    "import os\n",
    "from getpass import getpass\n",
    "\n",
    "# must enter API key\n",
    "os.environ[\"LANGCHAIN_API_KEY\"] = os.getenv(\"LANGCHAIN_API_KEY\") or \\\n",
    "                                  getpass(\"Enter LangSmith API Key: \")\n",
    "\n",
    "# below should not be changed\n",
    "os.environ[\"LANGCHAIN_TRACING_V2\"] = \"true\"\n",
    "os.environ[\"LANGCHAIN_ENDPOINT\"] = \"https://api.smith.langchain.com\"\n",
    "# you can change this as preferred\n",
    "os.environ[\"LANGCHAIN_PROJECT\"] = \"suhas-koheda-tutorial\""
   ],
   "id": "41eed49b333ff858",
   "outputs": [],
   "execution_count": 1
  },
  {
   "metadata": {},
   "cell_type": "code",
   "outputs": [],
   "execution_count": null,
   "source": "",
   "id": "680af855cfede5e0"
  }
 ],
 "metadata": {
  "kernelspec": {
   "display_name": "Python 3",
   "language": "python",
   "name": "python3"
  },
  "language_info": {
   "codemirror_mode": {
    "name": "ipython",
    "version": 2
   },
   "file_extension": ".py",
   "mimetype": "text/x-python",
   "name": "python",
   "nbconvert_exporter": "python",
   "pygments_lexer": "ipython2",
   "version": "2.7.6"
  }
 },
 "nbformat": 4,
 "nbformat_minor": 5
}
