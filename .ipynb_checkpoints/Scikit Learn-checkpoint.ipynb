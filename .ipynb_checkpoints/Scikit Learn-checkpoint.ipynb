{
 "cells": [
  {
   "cell_type": "code",
   "id": "initial_id",
   "metadata": {
    "collapsed": true,
    "ExecuteTime": {
     "end_time": "2025-05-05T17:59:20.235841Z",
     "start_time": "2025-05-05T17:59:17.815077Z"
    }
   },
   "source": [
    "from unicodedata import category\n",
    "\n",
    "import numpy as np\n",
    "import pandas as pd\n",
    "import matplotlib.pyplot as plt\n",
    "%matplotlib inline"
   ],
   "outputs": [],
   "execution_count": 1
  },
  {
   "metadata": {
    "ExecuteTime": {
     "end_time": "2025-05-05T17:59:20.327088Z",
     "start_time": "2025-05-05T17:59:20.306629Z"
    }
   },
   "cell_type": "code",
   "source": "df=pd.read_csv(\"ScikitLearn/car-sales-extended.csv\")",
   "id": "4b1c155e4680fc03",
   "outputs": [],
   "execution_count": 2
  },
  {
   "metadata": {
    "ExecuteTime": {
     "end_time": "2025-05-05T17:59:20.761667Z",
     "start_time": "2025-05-05T17:59:20.706604Z"
    }
   },
   "cell_type": "code",
   "source": [
    "df.head()\n",
    "df.describe()"
   ],
   "id": "fb40fa6534a1ae8c",
   "outputs": [
    {
     "data": {
      "text/plain": [
       "       Odometer (KM)        Doors         Price\n",
       "count    1000.000000  1000.000000   1000.000000\n",
       "mean   131073.708000     4.014000  16045.665000\n",
       "std     68859.723885     0.379405   8630.794219\n",
       "min     10148.000000     3.000000   2796.000000\n",
       "25%     71238.000000     4.000000   9481.500000\n",
       "50%    131202.000000     4.000000  14264.000000\n",
       "75%    192372.750000     4.000000  20738.750000\n",
       "max    249860.000000     5.000000  52458.000000"
      ],
      "text/html": [
       "<div>\n",
       "<style scoped>\n",
       "    .dataframe tbody tr th:only-of-type {\n",
       "        vertical-align: middle;\n",
       "    }\n",
       "\n",
       "    .dataframe tbody tr th {\n",
       "        vertical-align: top;\n",
       "    }\n",
       "\n",
       "    .dataframe thead th {\n",
       "        text-align: right;\n",
       "    }\n",
       "</style>\n",
       "<table border=\"1\" class=\"dataframe\">\n",
       "  <thead>\n",
       "    <tr style=\"text-align: right;\">\n",
       "      <th></th>\n",
       "      <th>Odometer (KM)</th>\n",
       "      <th>Doors</th>\n",
       "      <th>Price</th>\n",
       "    </tr>\n",
       "  </thead>\n",
       "  <tbody>\n",
       "    <tr>\n",
       "      <th>count</th>\n",
       "      <td>1000.000000</td>\n",
       "      <td>1000.000000</td>\n",
       "      <td>1000.000000</td>\n",
       "    </tr>\n",
       "    <tr>\n",
       "      <th>mean</th>\n",
       "      <td>131073.708000</td>\n",
       "      <td>4.014000</td>\n",
       "      <td>16045.665000</td>\n",
       "    </tr>\n",
       "    <tr>\n",
       "      <th>std</th>\n",
       "      <td>68859.723885</td>\n",
       "      <td>0.379405</td>\n",
       "      <td>8630.794219</td>\n",
       "    </tr>\n",
       "    <tr>\n",
       "      <th>min</th>\n",
       "      <td>10148.000000</td>\n",
       "      <td>3.000000</td>\n",
       "      <td>2796.000000</td>\n",
       "    </tr>\n",
       "    <tr>\n",
       "      <th>25%</th>\n",
       "      <td>71238.000000</td>\n",
       "      <td>4.000000</td>\n",
       "      <td>9481.500000</td>\n",
       "    </tr>\n",
       "    <tr>\n",
       "      <th>50%</th>\n",
       "      <td>131202.000000</td>\n",
       "      <td>4.000000</td>\n",
       "      <td>14264.000000</td>\n",
       "    </tr>\n",
       "    <tr>\n",
       "      <th>75%</th>\n",
       "      <td>192372.750000</td>\n",
       "      <td>4.000000</td>\n",
       "      <td>20738.750000</td>\n",
       "    </tr>\n",
       "    <tr>\n",
       "      <th>max</th>\n",
       "      <td>249860.000000</td>\n",
       "      <td>5.000000</td>\n",
       "      <td>52458.000000</td>\n",
       "    </tr>\n",
       "  </tbody>\n",
       "</table>\n",
       "</div>"
      ]
     },
     "execution_count": 3,
     "metadata": {},
     "output_type": "execute_result"
    }
   ],
   "execution_count": 3
  },
  {
   "metadata": {
    "ExecuteTime": {
     "end_time": "2025-05-05T17:59:25.992181Z",
     "start_time": "2025-05-05T17:59:21.088055Z"
    }
   },
   "cell_type": "code",
   "source": [
    "!pip install scikit-learn\n",
    "from sklearn.model_selection import train_test_split\n"
   ],
   "id": "adc48f98e4be4e41",
   "outputs": [
    {
     "name": "stdout",
     "output_type": "stream",
     "text": [
      "Requirement already satisfied: scikit-learn in /home/ssp/PyCharmMiscProject/.venv/lib/python3.13/site-packages (1.6.1)\r\n",
      "Requirement already satisfied: numpy>=1.19.5 in /home/ssp/PyCharmMiscProject/.venv/lib/python3.13/site-packages (from scikit-learn) (2.2.5)\r\n",
      "Requirement already satisfied: scipy>=1.6.0 in /home/ssp/PyCharmMiscProject/.venv/lib/python3.13/site-packages (from scikit-learn) (1.15.2)\r\n",
      "Requirement already satisfied: joblib>=1.2.0 in /home/ssp/PyCharmMiscProject/.venv/lib/python3.13/site-packages (from scikit-learn) (1.5.0)\r\n",
      "Requirement already satisfied: threadpoolctl>=3.1.0 in /home/ssp/PyCharmMiscProject/.venv/lib/python3.13/site-packages (from scikit-learn) (3.6.0)\r\n",
      "\r\n",
      "\u001B[1m[\u001B[0m\u001B[34;49mnotice\u001B[0m\u001B[1;39;49m]\u001B[0m\u001B[39;49m A new release of pip is available: \u001B[0m\u001B[31;49m25.0.1\u001B[0m\u001B[39;49m -> \u001B[0m\u001B[32;49m25.1\u001B[0m\r\n",
      "\u001B[1m[\u001B[0m\u001B[34;49mnotice\u001B[0m\u001B[1;39;49m]\u001B[0m\u001B[39;49m To update, run: \u001B[0m\u001B[32;49mpip install --upgrade pip\u001B[0m\r\n"
     ]
    }
   ],
   "execution_count": 4
  },
  {
   "metadata": {
    "ExecuteTime": {
     "end_time": "2025-05-05T17:59:26.136740Z",
     "start_time": "2025-05-05T17:59:26.124764Z"
    }
   },
   "cell_type": "code",
   "source": [
    "y=df['Price']\n",
    "y.head()\n",
    "x=df.drop('Price',axis=1)"
   ],
   "id": "231b4518f85c4e5d",
   "outputs": [],
   "execution_count": 5
  },
  {
   "metadata": {
    "ExecuteTime": {
     "end_time": "2025-05-05T17:59:26.453602Z",
     "start_time": "2025-05-05T17:59:26.444031Z"
    }
   },
   "cell_type": "code",
   "source": "X_train, Y_train, X_test, Y_test = train_test_split(x,y,test_size=0.2)",
   "id": "5dc08b3c3356ca0f",
   "outputs": [],
   "execution_count": 6
  },
  {
   "metadata": {
    "ExecuteTime": {
     "end_time": "2025-05-05T17:59:26.594594Z",
     "start_time": "2025-05-05T17:59:26.583884Z"
    }
   },
   "cell_type": "code",
   "source": "X_train.shape , Y_train.shape , X_test.shape, Y_test.shape",
   "id": "81fdc870d260e9d9",
   "outputs": [
    {
     "data": {
      "text/plain": [
       "((800, 4), (200, 4), (800,), (200,))"
      ]
     },
     "execution_count": 7,
     "metadata": {},
     "output_type": "execute_result"
    }
   ],
   "execution_count": 7
  },
  {
   "metadata": {
    "ExecuteTime": {
     "end_time": "2025-05-05T18:03:03.420595Z",
     "start_time": "2025-05-05T18:03:02.525639Z"
    }
   },
   "cell_type": "code",
   "source": [
    "import sklearn\n",
    "from sklearn.ensemble import RandomForestRegressor\n",
    "from sklearn.preprocessing import OneHotEncoder\n",
    "from sklearn.compose import ColumnTransformer\n",
    "\n",
    "category_features=[\"Make\",\"Colour\",\"Doors\"]\n",
    "onehotencoder = OneHotEncoder(handle_unknown='ignore')\n",
    "transformer=ColumnTransformer([(\"one_hot\",onehotencoder,category_features)],remainder='passthrough')\n",
    "transfer_x=transformer.fit_transform(x)\n",
    "\n",
    "X_train, X_test, Y_train, Y_test = train_test_split(transfer_x,y,test_size=0.2)\n",
    "\n",
    "model=RandomForestRegressor()\n",
    "model.fit(X_train,Y_train)\n",
    "model.score(X_test,Y_test)"
   ],
   "id": "fa47efca0a667585",
   "outputs": [
    {
     "data": {
      "text/plain": [
       "0.27714177910934956"
      ]
     },
     "execution_count": 18,
     "metadata": {},
     "output_type": "execute_result"
    }
   ],
   "execution_count": 18
  },
  {
   "metadata": {
    "ExecuteTime": {
     "end_time": "2025-05-05T18:05:02.252201Z",
     "start_time": "2025-05-05T18:05:02.236472Z"
    }
   },
   "cell_type": "code",
   "source": "df.isna().sum()",
   "id": "722465245907fc7b",
   "outputs": [
    {
     "data": {
      "text/plain": [
       "Make             0\n",
       "Colour           0\n",
       "Odometer (KM)    0\n",
       "Doors            0\n",
       "Price            0\n",
       "dtype: int64"
      ]
     },
     "execution_count": 22,
     "metadata": {},
     "output_type": "execute_result"
    }
   ],
   "execution_count": 22
  },
  {
   "metadata": {},
   "cell_type": "code",
   "outputs": [],
   "execution_count": null,
   "source": "",
   "id": "9b624a67c5a76d54"
  }
 ],
 "metadata": {
  "kernelspec": {
   "display_name": "Python 3",
   "language": "python",
   "name": "python3"
  },
  "language_info": {
   "codemirror_mode": {
    "name": "ipython",
    "version": 2
   },
   "file_extension": ".py",
   "mimetype": "text/x-python",
   "name": "python",
   "nbconvert_exporter": "python",
   "pygments_lexer": "ipython2",
   "version": "2.7.6"
  }
 },
 "nbformat": 4,
 "nbformat_minor": 5
}
